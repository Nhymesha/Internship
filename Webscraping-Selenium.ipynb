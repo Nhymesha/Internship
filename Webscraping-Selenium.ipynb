{
 "cells": [
  {
   "cell_type": "code",
   "execution_count": 49,
   "id": "bcc65298",
   "metadata": {},
   "outputs": [
    {
     "name": "stdout",
     "output_type": "stream",
     "text": [
      "Requirement already satisfied: selenium in d:\\anaconda\\lib\\site-packages (4.5.0)\n",
      "Requirement already satisfied: trio~=0.17 in d:\\anaconda\\lib\\site-packages (from selenium) (0.22.0)\n",
      "Requirement already satisfied: trio-websocket~=0.9 in d:\\anaconda\\lib\\site-packages (from selenium) (0.9.2)\n",
      "Requirement already satisfied: urllib3[socks]~=1.26 in d:\\anaconda\\lib\\site-packages (from selenium) (1.26.9)\n",
      "Requirement already satisfied: certifi>=2021.10.8 in d:\\anaconda\\lib\\site-packages (from selenium) (2021.10.8)\n",
      "Requirement already satisfied: cffi>=1.14 in d:\\anaconda\\lib\\site-packages (from trio~=0.17->selenium) (1.15.0)\n",
      "Requirement already satisfied: attrs>=19.2.0 in d:\\anaconda\\lib\\site-packages (from trio~=0.17->selenium) (21.4.0)\n",
      "Requirement already satisfied: sortedcontainers in d:\\anaconda\\lib\\site-packages (from trio~=0.17->selenium) (2.4.0)\n",
      "Requirement already satisfied: async-generator>=1.9 in d:\\anaconda\\lib\\site-packages (from trio~=0.17->selenium) (1.10)\n",
      "Requirement already satisfied: exceptiongroup>=1.0.0rc9 in d:\\anaconda\\lib\\site-packages (from trio~=0.17->selenium) (1.0.0rc9)\n",
      "Requirement already satisfied: sniffio in d:\\anaconda\\lib\\site-packages (from trio~=0.17->selenium) (1.2.0)\n",
      "Requirement already satisfied: outcome in d:\\anaconda\\lib\\site-packages (from trio~=0.17->selenium) (1.2.0)\n",
      "Requirement already satisfied: idna in d:\\anaconda\\lib\\site-packages (from trio~=0.17->selenium) (3.3)\n",
      "Requirement already satisfied: pycparser in d:\\anaconda\\lib\\site-packages (from cffi>=1.14->trio~=0.17->selenium) (2.21)\n",
      "Requirement already satisfied: wsproto>=0.14 in d:\\anaconda\\lib\\site-packages (from trio-websocket~=0.9->selenium) (1.2.0)\n",
      "Requirement already satisfied: PySocks!=1.5.7,<2.0,>=1.5.6 in d:\\anaconda\\lib\\site-packages (from urllib3[socks]~=1.26->selenium) (1.7.1)\n",
      "Requirement already satisfied: h11<1,>=0.9.0 in d:\\anaconda\\lib\\site-packages (from wsproto>=0.14->trio-websocket~=0.9->selenium) (0.14.0)\n"
     ]
    }
   ],
   "source": [
    "!pip install selenium"
   ]
  },
  {
   "cell_type": "code",
   "execution_count": 1,
   "id": "e191c5a8",
   "metadata": {},
   "outputs": [],
   "source": [
    "import selenium\n",
    "import pandas as pd\n",
    "from selenium import webdriver\n",
    "import warnings\n",
    "warnings.filterwarnings('ignore')\n",
    "from selenium.common.exceptions import StaleElementReferenceException, NoSuchElementException\n",
    "from selenium.webdriver.common.by import By\n",
    "import time\n",
    "from time import sleep"
   ]
  },
  {
   "cell_type": "markdown",
   "id": "df5375a6",
   "metadata": {},
   "source": [
    "Q1: Write a python program to scrape data for “Data Analyst” Job position in “Bangalore” location. You\n",
    "have to scrape the job-title, job-location, company_name, experience_required. You have to scrape first 10\n",
    "jobs data.\n",
    "This task will be done in following steps:\n",
    "1. First get the webpage https://www.naukri.com/\n",
    "2. Enter “Data Analyst” in “Skill, Designations, Companies” field and enter “Bangalore” in “enter the\n",
    "location” field.\n",
    "3. Then click the search button.\n",
    "4. Then scrape the data for the first 10 jobs results you get.\n",
    "5. Finally create a dataframe of the scraped data."
   ]
  },
  {
   "cell_type": "code",
   "execution_count": null,
   "id": "db06410e",
   "metadata": {},
   "outputs": [],
   "source": [
    "#We have to download the webdriver for the web browser. steps for download are\n",
    "1. check the version of the browser\n",
    "2. Go to the link: https://chromedriver.chromium.org/downloads \n",
    "3. download the webdriver for your version of the browser"
   ]
  },
  {
   "cell_type": "code",
   "execution_count": 8,
   "id": "323b58c9",
   "metadata": {},
   "outputs": [],
   "source": [
    "#connect to the driver\n",
    "driver=webdriver.Chrome(r\"D:\\\\chromedriver.exe\")"
   ]
  },
  {
   "cell_type": "code",
   "execution_count": 9,
   "id": "b2ae780d",
   "metadata": {},
   "outputs": [],
   "source": [
    "#opening the naukri page on automated chrome browser\n",
    "driver.get(\"https://www.naukri.com/\")"
   ]
  },
  {
   "cell_type": "code",
   "execution_count": 17,
   "id": "7380b290",
   "metadata": {},
   "outputs": [],
   "source": [
    "#Entering the designation as Data Analyst” in “Skill, Designations, Companies” field and enter “Bangalore” in “enter the location” field as per the question\n",
    "designation=driver.find_element(By.CLASS_NAME, \"suggestor-input\")\n",
    "designation.send_keys(\"Data Analyst\")"
   ]
  },
  {
   "cell_type": "code",
   "execution_count": 18,
   "id": "f72509ae",
   "metadata": {},
   "outputs": [],
   "source": [
    "location=driver.find_element(By.XPATH, \"/html/body/div[1]/div[6]/div/div/div[5]/div/div/div[1]/input\")\n",
    "location.send_keys(\"Bangalore\")"
   ]
  },
  {
   "cell_type": "code",
   "execution_count": 19,
   "id": "bb18b250",
   "metadata": {},
   "outputs": [],
   "source": [
    "search=driver.find_element(By.CLASS_NAME, \"qsbSubmit\")\n",
    "search.click()"
   ]
  },
  {
   "cell_type": "code",
   "execution_count": 20,
   "id": "81479b16",
   "metadata": {},
   "outputs": [],
   "source": [
    "Job_designation=[]\n",
    "Company_name=[]\n",
    "Job_location=[]\n",
    "Skills_required=[]\n",
    "Experience_required=[]\n",
    "\n"
   ]
  },
  {
   "cell_type": "code",
   "execution_count": 23,
   "id": "6aeffc23",
   "metadata": {},
   "outputs": [
    {
     "data": {
      "text/plain": [
       "['Senior Data Analyst',\n",
       " 'Data Analyst',\n",
       " 'Hiring For Data Analyst (DA)/ Team Lead (TL) -Clinical Data management',\n",
       " 'Call For Clinical Data Analyst - Hyd/Bangalore/Pune/Mumbai/Kolkata',\n",
       " 'HR Data Analyst',\n",
       " 'Senior Data Analyst',\n",
       " 'Sr. SAP Hana Data Analyst',\n",
       " 'Business Execution (Data and Reporting Analyst)',\n",
       " 'Data Analyst',\n",
       " 'Manager / Senior Manager - Data Analyst']"
      ]
     },
     "execution_count": 23,
     "metadata": {},
     "output_type": "execute_result"
    }
   ],
   "source": [
    "#scraping the Job_designation data from given page\n",
    "Job_titles=driver.find_elements(By.XPATH, '//a[@class=\"title fw500 ellipsis\"]')\n",
    "\n",
    "for i in Job_titles[0:10]:\n",
    "    job=i.text\n",
    "    Job_designation.append(job)\n",
    "\n",
    "Job_designation"
   ]
  },
  {
   "cell_type": "code",
   "execution_count": 24,
   "id": "03e72376",
   "metadata": {},
   "outputs": [],
   "source": [
    "#scraping the company names from given page\n",
    "Companyname=driver.find_elements(By.XPATH, '//a[@class=\"subTitle ellipsis fleft\"]')\n",
    "for data in Companyname[0:10]:\n",
    "    data=data.text\n",
    "    Company_name.append(data)"
   ]
  },
  {
   "cell_type": "code",
   "execution_count": 25,
   "id": "b634c7da",
   "metadata": {},
   "outputs": [
    {
     "data": {
      "text/plain": [
       "['Latentview',\n",
       " 'Jar',\n",
       " 'Cognizant',\n",
       " 'Cognizant',\n",
       " 'Hitachi Ltd.',\n",
       " 'Klub',\n",
       " 'Anicalls',\n",
       " 'Wells Fargo',\n",
       " 'Coresight Research, Inc.',\n",
       " 'Huquo Consulting Pvt. Ltd']"
      ]
     },
     "execution_count": 25,
     "metadata": {},
     "output_type": "execute_result"
    }
   ],
   "source": [
    "Company_name"
   ]
  },
  {
   "cell_type": "code",
   "execution_count": 26,
   "id": "2e90ecae",
   "metadata": {},
   "outputs": [],
   "source": [
    "#scraping the job location from available page\n",
    "\n",
    "Location=driver.find_elements(By.XPATH, '//li[@class=\"fleft grey-text br2 placeHolderLi location\"]')\n",
    "for i in Location[0:10]:\n",
    "    i=i.text\n",
    "    Job_location.append(i)\n"
   ]
  },
  {
   "cell_type": "code",
   "execution_count": 27,
   "id": "cf8b901a",
   "metadata": {},
   "outputs": [
    {
     "data": {
      "text/plain": [
       "['Bangalore/Bengaluru, Chennai',\n",
       " 'Bangalore/Bengaluru',\n",
       " 'Bangalore/Bengaluru, Kolkata, Hyderabad/Secunderabad, Pune, Mumbai (All Areas)',\n",
       " 'Bangalore/Bengaluru, Kolkata, Hyderabad/Secunderabad, Pune, Mumbai (All Areas)',\n",
       " 'Bangalore/Bengaluru',\n",
       " 'Bangalore/Bengaluru',\n",
       " 'Bangalore/Bengaluru',\n",
       " 'Bangalore/Bengaluru',\n",
       " 'Bangalore/Bengaluru, Mangaluru/Mangalore, Pune, Delhi / NCR, Mumbai (All Areas)',\n",
       " 'Bangalore/Bengaluru, Mumbai, Hyderabad/Secunderabad, Pune, Gurgaon/Gurugram, Ahmedabad, Jaipur, Delhi / NCR']"
      ]
     },
     "execution_count": 27,
     "metadata": {},
     "output_type": "execute_result"
    }
   ],
   "source": [
    "Job_location"
   ]
  },
  {
   "cell_type": "code",
   "execution_count": 28,
   "id": "afe4d0ce",
   "metadata": {},
   "outputs": [],
   "source": [
    "#scrapng the skills from the page\n",
    "skills=driver.find_elements(By.XPATH, '//div[@class=\"job-description fs12 grey-text\"]')\n",
    "for i in skills[0:10]:\n",
    "    location=i.text\n",
    "    Skills_required.append(location)\n",
    "    "
   ]
  },
  {
   "cell_type": "code",
   "execution_count": 29,
   "id": "af567491",
   "metadata": {},
   "outputs": [
    {
     "data": {
      "text/plain": [
       "['Strong problem solving, business analysis and quantitative skills5+ Years of hands-on e...',\n",
       " '4 years of experience with Python Data Analysis Packages(Pandas, NumPy, Matplotlib, Sci...',\n",
       " 'Manage programming only changes (Move to DWA for LSH and SD for EDC when SOP and T11 / ...',\n",
       " 'Hands on experience on at least 2 of the 3 phases of Clinical Data Management (start up...',\n",
       " 'Education / Experience: Bachelors degree in a quantitative field (e.gExperience working...',\n",
       " 'A drive to learn and master new technologies and techniquesMinimum 4 year of working ex...',\n",
       " 'Participate in meetings with users, project managers, and developers to automate, upgra...',\n",
       " '6+ year of experience in one or a combination of the following: business analysis, proj...',\n",
       " 'CORESIGHT RESEARCH: The Coresight Research team, based in New York, London, Hong Kong, ...',\n",
       " 'BA / BS / BTech minimum educational requirement Proficiency in Excel required Have prio...']"
      ]
     },
     "execution_count": 29,
     "metadata": {},
     "output_type": "execute_result"
    }
   ],
   "source": [
    "Skills_required"
   ]
  },
  {
   "cell_type": "code",
   "execution_count": 30,
   "id": "7425d251",
   "metadata": {},
   "outputs": [],
   "source": [
    "experience=driver.find_elements(By.XPATH, '//li[@class=\"fleft grey-text br2 placeHolderLi experience\"]')\n",
    "for exp in experience[0:10]:\n",
    "    exp=exp.text\n",
    "    Experience_required.append(exp)\n",
    "    "
   ]
  },
  {
   "cell_type": "code",
   "execution_count": 31,
   "id": "2b0bfcfd",
   "metadata": {},
   "outputs": [
    {
     "data": {
      "text/plain": [
       "['3-6 Yrs',\n",
       " '0-4 Yrs',\n",
       " '3-8 Yrs',\n",
       " '6-9 Yrs',\n",
       " '3-6 Yrs',\n",
       " '2-5 Yrs',\n",
       " '5-10 Yrs',\n",
       " '6-11 Yrs',\n",
       " '4-8 Yrs',\n",
       " '2-7 Yrs']"
      ]
     },
     "execution_count": 31,
     "metadata": {},
     "output_type": "execute_result"
    }
   ],
   "source": [
    "Experience_required"
   ]
  },
  {
   "cell_type": "code",
   "execution_count": null,
   "id": "37172b80",
   "metadata": {},
   "outputs": [],
   "source": [
    "print(len(Job_designation), len(Company_name), len(Job_location), len(Skills_required), len(Experience_required))"
   ]
  },
  {
   "cell_type": "code",
   "execution_count": 32,
   "id": "f69ba3a7",
   "metadata": {},
   "outputs": [],
   "source": [
    "df=pd.DataFrame({\"job-title\":Job_designation, \"job-location\":Job_location, \"company_name\":Company_name, \"Experience Required\":Experience_required, \"Skills\":Skills_required})"
   ]
  },
  {
   "cell_type": "code",
   "execution_count": 33,
   "id": "78f8d835",
   "metadata": {},
   "outputs": [
    {
     "data": {
      "text/html": [
       "<div>\n",
       "<style scoped>\n",
       "    .dataframe tbody tr th:only-of-type {\n",
       "        vertical-align: middle;\n",
       "    }\n",
       "\n",
       "    .dataframe tbody tr th {\n",
       "        vertical-align: top;\n",
       "    }\n",
       "\n",
       "    .dataframe thead th {\n",
       "        text-align: right;\n",
       "    }\n",
       "</style>\n",
       "<table border=\"1\" class=\"dataframe\">\n",
       "  <thead>\n",
       "    <tr style=\"text-align: right;\">\n",
       "      <th></th>\n",
       "      <th>job-title</th>\n",
       "      <th>job-location</th>\n",
       "      <th>company_name</th>\n",
       "      <th>Experience Required</th>\n",
       "      <th>Skills</th>\n",
       "    </tr>\n",
       "  </thead>\n",
       "  <tbody>\n",
       "    <tr>\n",
       "      <th>0</th>\n",
       "      <td>Senior Data Analyst</td>\n",
       "      <td>Bangalore/Bengaluru, Chennai</td>\n",
       "      <td>Latentview</td>\n",
       "      <td>3-6 Yrs</td>\n",
       "      <td>Strong problem solving, business analysis and ...</td>\n",
       "    </tr>\n",
       "    <tr>\n",
       "      <th>1</th>\n",
       "      <td>Data Analyst</td>\n",
       "      <td>Bangalore/Bengaluru</td>\n",
       "      <td>Jar</td>\n",
       "      <td>0-4 Yrs</td>\n",
       "      <td>4 years of experience with Python Data Analysi...</td>\n",
       "    </tr>\n",
       "    <tr>\n",
       "      <th>2</th>\n",
       "      <td>Hiring For Data Analyst (DA)/ Team Lead (TL) -...</td>\n",
       "      <td>Bangalore/Bengaluru, Kolkata, Hyderabad/Secund...</td>\n",
       "      <td>Cognizant</td>\n",
       "      <td>3-8 Yrs</td>\n",
       "      <td>Manage programming only changes (Move to DWA f...</td>\n",
       "    </tr>\n",
       "    <tr>\n",
       "      <th>3</th>\n",
       "      <td>Call For Clinical Data Analyst - Hyd/Bangalore...</td>\n",
       "      <td>Bangalore/Bengaluru, Kolkata, Hyderabad/Secund...</td>\n",
       "      <td>Cognizant</td>\n",
       "      <td>6-9 Yrs</td>\n",
       "      <td>Hands on experience on at least 2 of the 3 pha...</td>\n",
       "    </tr>\n",
       "    <tr>\n",
       "      <th>4</th>\n",
       "      <td>HR Data Analyst</td>\n",
       "      <td>Bangalore/Bengaluru</td>\n",
       "      <td>Hitachi Ltd.</td>\n",
       "      <td>3-6 Yrs</td>\n",
       "      <td>Education / Experience: Bachelors degree in a ...</td>\n",
       "    </tr>\n",
       "    <tr>\n",
       "      <th>5</th>\n",
       "      <td>Senior Data Analyst</td>\n",
       "      <td>Bangalore/Bengaluru</td>\n",
       "      <td>Klub</td>\n",
       "      <td>2-5 Yrs</td>\n",
       "      <td>A drive to learn and master new technologies a...</td>\n",
       "    </tr>\n",
       "    <tr>\n",
       "      <th>6</th>\n",
       "      <td>Sr. SAP Hana Data Analyst</td>\n",
       "      <td>Bangalore/Bengaluru</td>\n",
       "      <td>Anicalls</td>\n",
       "      <td>5-10 Yrs</td>\n",
       "      <td>Participate in meetings with users, project ma...</td>\n",
       "    </tr>\n",
       "    <tr>\n",
       "      <th>7</th>\n",
       "      <td>Business Execution (Data and Reporting Analyst)</td>\n",
       "      <td>Bangalore/Bengaluru</td>\n",
       "      <td>Wells Fargo</td>\n",
       "      <td>6-11 Yrs</td>\n",
       "      <td>6+ year of experience in one or a combination ...</td>\n",
       "    </tr>\n",
       "    <tr>\n",
       "      <th>8</th>\n",
       "      <td>Data Analyst</td>\n",
       "      <td>Bangalore/Bengaluru, Mangaluru/Mangalore, Pune...</td>\n",
       "      <td>Coresight Research, Inc.</td>\n",
       "      <td>4-8 Yrs</td>\n",
       "      <td>CORESIGHT RESEARCH: The Coresight Research tea...</td>\n",
       "    </tr>\n",
       "    <tr>\n",
       "      <th>9</th>\n",
       "      <td>Manager / Senior Manager - Data Analyst</td>\n",
       "      <td>Bangalore/Bengaluru, Mumbai, Hyderabad/Secunde...</td>\n",
       "      <td>Huquo Consulting Pvt. Ltd</td>\n",
       "      <td>2-7 Yrs</td>\n",
       "      <td>BA / BS / BTech minimum educational requiremen...</td>\n",
       "    </tr>\n",
       "  </tbody>\n",
       "</table>\n",
       "</div>"
      ],
      "text/plain": [
       "                                           job-title  \\\n",
       "0                                Senior Data Analyst   \n",
       "1                                       Data Analyst   \n",
       "2  Hiring For Data Analyst (DA)/ Team Lead (TL) -...   \n",
       "3  Call For Clinical Data Analyst - Hyd/Bangalore...   \n",
       "4                                    HR Data Analyst   \n",
       "5                                Senior Data Analyst   \n",
       "6                          Sr. SAP Hana Data Analyst   \n",
       "7    Business Execution (Data and Reporting Analyst)   \n",
       "8                                       Data Analyst   \n",
       "9            Manager / Senior Manager - Data Analyst   \n",
       "\n",
       "                                        job-location  \\\n",
       "0                       Bangalore/Bengaluru, Chennai   \n",
       "1                                Bangalore/Bengaluru   \n",
       "2  Bangalore/Bengaluru, Kolkata, Hyderabad/Secund...   \n",
       "3  Bangalore/Bengaluru, Kolkata, Hyderabad/Secund...   \n",
       "4                                Bangalore/Bengaluru   \n",
       "5                                Bangalore/Bengaluru   \n",
       "6                                Bangalore/Bengaluru   \n",
       "7                                Bangalore/Bengaluru   \n",
       "8  Bangalore/Bengaluru, Mangaluru/Mangalore, Pune...   \n",
       "9  Bangalore/Bengaluru, Mumbai, Hyderabad/Secunde...   \n",
       "\n",
       "                company_name Experience Required  \\\n",
       "0                 Latentview             3-6 Yrs   \n",
       "1                        Jar             0-4 Yrs   \n",
       "2                  Cognizant             3-8 Yrs   \n",
       "3                  Cognizant             6-9 Yrs   \n",
       "4               Hitachi Ltd.             3-6 Yrs   \n",
       "5                       Klub             2-5 Yrs   \n",
       "6                   Anicalls            5-10 Yrs   \n",
       "7                Wells Fargo            6-11 Yrs   \n",
       "8   Coresight Research, Inc.             4-8 Yrs   \n",
       "9  Huquo Consulting Pvt. Ltd             2-7 Yrs   \n",
       "\n",
       "                                              Skills  \n",
       "0  Strong problem solving, business analysis and ...  \n",
       "1  4 years of experience with Python Data Analysi...  \n",
       "2  Manage programming only changes (Move to DWA f...  \n",
       "3  Hands on experience on at least 2 of the 3 pha...  \n",
       "4  Education / Experience: Bachelors degree in a ...  \n",
       "5  A drive to learn and master new technologies a...  \n",
       "6  Participate in meetings with users, project ma...  \n",
       "7  6+ year of experience in one or a combination ...  \n",
       "8  CORESIGHT RESEARCH: The Coresight Research tea...  \n",
       "9  BA / BS / BTech minimum educational requiremen...  "
      ]
     },
     "execution_count": 33,
     "metadata": {},
     "output_type": "execute_result"
    }
   ],
   "source": [
    "df"
   ]
  },
  {
   "cell_type": "markdown",
   "id": "ff935aa6",
   "metadata": {},
   "source": [
    "Write a python program to scrape data for “Data Scientist” Job position in “Bangalore” location. You\n",
    "have to scrape the job-title, job-location, company_name. You have to scrape first 10 jobs data.\n",
    "This task will be done in following steps:\n",
    "1. First get the webpage https://www.naukri.com/\n",
    "2. Enter “Data Scientist” in “Skill, Designations, Companies” field and enter “Bangalore” in “enter the\n",
    "location” field.\n",
    "3. Then click the search button.\n",
    "4. Then scrape the data for the first 10 jobs results you get.\n",
    "5. Finally create a dataframe of the scraped data."
   ]
  },
  {
   "cell_type": "code",
   "execution_count": 3,
   "id": "f7f46981",
   "metadata": {},
   "outputs": [],
   "source": [
    "#First step is to connect to the driver\n",
    "driver=webdriver.Chrome(r\"D:\\\\chromedriver.exe\")"
   ]
  },
  {
   "cell_type": "code",
   "execution_count": 4,
   "id": "6ae2c162",
   "metadata": {},
   "outputs": [],
   "source": [
    "#opening the naukri page on automated chrome browser\n",
    "driver.get(\"https://www.naukri.com/\")"
   ]
  },
  {
   "cell_type": "code",
   "execution_count": 5,
   "id": "fb50e05a",
   "metadata": {},
   "outputs": [],
   "source": [
    "#Entering the designation as Data ” in “Skill, Designations, Companies” field and enter “Bangalore” in “enter the location” field as per the question\n",
    "designation=driver.find_element(By.CLASS_NAME, \"suggestor-input\")\n",
    "designation.send_keys(\"Data Scientist\")"
   ]
  },
  {
   "cell_type": "code",
   "execution_count": 38,
   "id": "58ad772d",
   "metadata": {},
   "outputs": [],
   "source": [
    "location=driver.find_element(By.XPATH, \"/html/body/div[1]/div[6]/div/div/div[5]/div/div/div[1]/input\")\n",
    "location.send_keys(\"Bangalore\")"
   ]
  },
  {
   "cell_type": "code",
   "execution_count": 39,
   "id": "19d47194",
   "metadata": {},
   "outputs": [],
   "source": [
    "search=driver.find_element(By.CLASS_NAME, \"qsbSubmit\")\n",
    "search.click()"
   ]
  },
  {
   "cell_type": "code",
   "execution_count": 5,
   "id": "72f0ff8a",
   "metadata": {},
   "outputs": [],
   "source": [
    "job_title=[]\n",
    "joblocation=[]\n",
    "company_name=[]"
   ]
  },
  {
   "cell_type": "code",
   "execution_count": 8,
   "id": "5857940f",
   "metadata": {},
   "outputs": [
    {
     "data": {
      "text/plain": [
       "['Data Science Specialist',\n",
       " 'Data Science Manager',\n",
       " 'Mongodb Database Administrator, Maria DB or Cassandra',\n",
       " 'Analystics & Modeling Specialist',\n",
       " 'Assistant Manager - Data Science',\n",
       " 'Data Scientist',\n",
       " 'Data Scientist',\n",
       " 'Senior Data Scientist',\n",
       " 'Data Scientist: Artificial Intelligence',\n",
       " 'Data Scientist - Computer Vision']"
      ]
     },
     "execution_count": 8,
     "metadata": {},
     "output_type": "execute_result"
    }
   ],
   "source": [
    "Title_tags=driver.find_elements(By.XPATH, '//a[@class=\"title fw500 ellipsis\"]')\n",
    "for i in Title_tags[0:10]:\n",
    "    text=i.text\n",
    "    job_title.append(text)\n",
    "    \n",
    "job_title"
   ]
  },
  {
   "cell_type": "code",
   "execution_count": 9,
   "id": "bd227c13",
   "metadata": {},
   "outputs": [
    {
     "data": {
      "text/plain": [
       "['Bangalore/Bengaluru, Kolkata, Mumbai, Hyderabad/Secunderabad, Pune, Chennai',\n",
       " 'Bangalore/Bengaluru, Kolkata, Mumbai, Hyderabad/Secunderabad, Pune, Chennai',\n",
       " 'Bangalore/Bengaluru, Hyderabad/Secunderabad, Pune, Chennai, Delhi / NCR, Mumbai (All Areas)',\n",
       " 'Bangalore/Bengaluru, Kolkata, Mumbai, Hyderabad/Secunderabad, Pune, Chennai, delhi ncr',\n",
       " 'Bangalore/Bengaluru, Mumbai, Pune',\n",
       " 'Bangalore/Bengaluru, New Delhi, Pune, Gurgaon/Gurugram, Delhi / NCR',\n",
       " 'Bangalore/Bengaluru, Hyderabad/Secunderabad, Pune, Chennai',\n",
       " 'Bangalore/Bengaluru, Mumbai, New Delhi, Chennai',\n",
       " 'Bangalore/Bengaluru',\n",
       " 'Bangalore/Bengaluru']"
      ]
     },
     "execution_count": 9,
     "metadata": {},
     "output_type": "execute_result"
    }
   ],
   "source": [
    "job_location=driver.find_elements(By.XPATH, '//li[@class=\"fleft grey-text br2 placeHolderLi location\"]')\n",
    "for job in job_location[0:10]:\n",
    "    i=job.text\n",
    "    joblocation.append(i)\n",
    "    \n",
    "joblocation"
   ]
  },
  {
   "cell_type": "code",
   "execution_count": 6,
   "id": "66121948",
   "metadata": {},
   "outputs": [
    {
     "data": {
      "text/plain": [
       "['Accenture',\n",
       " 'Accenture',\n",
       " 'Mphasis',\n",
       " 'Accenture',\n",
       " 'CitiusTech',\n",
       " 'ZS Associates',\n",
       " 'Tech Mahindra',\n",
       " 'Boston Consulting Group',\n",
       " 'IBM',\n",
       " 'Walmart']"
      ]
     },
     "execution_count": 6,
     "metadata": {},
     "output_type": "execute_result"
    }
   ],
   "source": [
    "Company_name=driver.find_elements(By.XPATH, '//a[@class=\"subTitle ellipsis fleft\"]')\n",
    "for i in Company_name[0:10]:\n",
    "    i=i.text\n",
    "    company_name.append(i)\n",
    "    \n",
    "company_name"
   ]
  },
  {
   "cell_type": "code",
   "execution_count": 10,
   "id": "947614f6",
   "metadata": {},
   "outputs": [],
   "source": [
    "df2=pd.DataFrame({\"job-title\":job_title, \"job-location\":joblocation, \"company_name\":company_name})"
   ]
  },
  {
   "cell_type": "code",
   "execution_count": 11,
   "id": "e1aa7c0a",
   "metadata": {},
   "outputs": [
    {
     "data": {
      "text/html": [
       "<div>\n",
       "<style scoped>\n",
       "    .dataframe tbody tr th:only-of-type {\n",
       "        vertical-align: middle;\n",
       "    }\n",
       "\n",
       "    .dataframe tbody tr th {\n",
       "        vertical-align: top;\n",
       "    }\n",
       "\n",
       "    .dataframe thead th {\n",
       "        text-align: right;\n",
       "    }\n",
       "</style>\n",
       "<table border=\"1\" class=\"dataframe\">\n",
       "  <thead>\n",
       "    <tr style=\"text-align: right;\">\n",
       "      <th></th>\n",
       "      <th>job-title</th>\n",
       "      <th>job-location</th>\n",
       "      <th>company_name</th>\n",
       "    </tr>\n",
       "  </thead>\n",
       "  <tbody>\n",
       "    <tr>\n",
       "      <th>0</th>\n",
       "      <td>Data Science Specialist</td>\n",
       "      <td>Bangalore/Bengaluru, Kolkata, Mumbai, Hyderaba...</td>\n",
       "      <td>Accenture</td>\n",
       "    </tr>\n",
       "    <tr>\n",
       "      <th>1</th>\n",
       "      <td>Data Science Manager</td>\n",
       "      <td>Bangalore/Bengaluru, Kolkata, Mumbai, Hyderaba...</td>\n",
       "      <td>Accenture</td>\n",
       "    </tr>\n",
       "    <tr>\n",
       "      <th>2</th>\n",
       "      <td>Mongodb Database Administrator, Maria DB or Ca...</td>\n",
       "      <td>Bangalore/Bengaluru, Hyderabad/Secunderabad, P...</td>\n",
       "      <td>Mphasis</td>\n",
       "    </tr>\n",
       "    <tr>\n",
       "      <th>3</th>\n",
       "      <td>Analystics &amp; Modeling Specialist</td>\n",
       "      <td>Bangalore/Bengaluru, Kolkata, Mumbai, Hyderaba...</td>\n",
       "      <td>Accenture</td>\n",
       "    </tr>\n",
       "    <tr>\n",
       "      <th>4</th>\n",
       "      <td>Assistant Manager - Data Science</td>\n",
       "      <td>Bangalore/Bengaluru, Mumbai, Pune</td>\n",
       "      <td>CitiusTech</td>\n",
       "    </tr>\n",
       "    <tr>\n",
       "      <th>5</th>\n",
       "      <td>Data Scientist</td>\n",
       "      <td>Bangalore/Bengaluru, New Delhi, Pune, Gurgaon/...</td>\n",
       "      <td>ZS Associates</td>\n",
       "    </tr>\n",
       "    <tr>\n",
       "      <th>6</th>\n",
       "      <td>Data Scientist</td>\n",
       "      <td>Bangalore/Bengaluru, Hyderabad/Secunderabad, P...</td>\n",
       "      <td>Tech Mahindra</td>\n",
       "    </tr>\n",
       "    <tr>\n",
       "      <th>7</th>\n",
       "      <td>Senior Data Scientist</td>\n",
       "      <td>Bangalore/Bengaluru, Mumbai, New Delhi, Chennai</td>\n",
       "      <td>Boston Consulting Group</td>\n",
       "    </tr>\n",
       "    <tr>\n",
       "      <th>8</th>\n",
       "      <td>Data Scientist: Artificial Intelligence</td>\n",
       "      <td>Bangalore/Bengaluru</td>\n",
       "      <td>IBM</td>\n",
       "    </tr>\n",
       "    <tr>\n",
       "      <th>9</th>\n",
       "      <td>Data Scientist - Computer Vision</td>\n",
       "      <td>Bangalore/Bengaluru</td>\n",
       "      <td>Walmart</td>\n",
       "    </tr>\n",
       "  </tbody>\n",
       "</table>\n",
       "</div>"
      ],
      "text/plain": [
       "                                           job-title  \\\n",
       "0                            Data Science Specialist   \n",
       "1                               Data Science Manager   \n",
       "2  Mongodb Database Administrator, Maria DB or Ca...   \n",
       "3                   Analystics & Modeling Specialist   \n",
       "4                   Assistant Manager - Data Science   \n",
       "5                                     Data Scientist   \n",
       "6                                     Data Scientist   \n",
       "7                              Senior Data Scientist   \n",
       "8            Data Scientist: Artificial Intelligence   \n",
       "9                   Data Scientist - Computer Vision   \n",
       "\n",
       "                                        job-location             company_name  \n",
       "0  Bangalore/Bengaluru, Kolkata, Mumbai, Hyderaba...                Accenture  \n",
       "1  Bangalore/Bengaluru, Kolkata, Mumbai, Hyderaba...                Accenture  \n",
       "2  Bangalore/Bengaluru, Hyderabad/Secunderabad, P...                  Mphasis  \n",
       "3  Bangalore/Bengaluru, Kolkata, Mumbai, Hyderaba...                Accenture  \n",
       "4                  Bangalore/Bengaluru, Mumbai, Pune               CitiusTech  \n",
       "5  Bangalore/Bengaluru, New Delhi, Pune, Gurgaon/...            ZS Associates  \n",
       "6  Bangalore/Bengaluru, Hyderabad/Secunderabad, P...            Tech Mahindra  \n",
       "7    Bangalore/Bengaluru, Mumbai, New Delhi, Chennai  Boston Consulting Group  \n",
       "8                                Bangalore/Bengaluru                      IBM  \n",
       "9                                Bangalore/Bengaluru                  Walmart  "
      ]
     },
     "execution_count": 11,
     "metadata": {},
     "output_type": "execute_result"
    }
   ],
   "source": [
    "df2"
   ]
  },
  {
   "cell_type": "markdown",
   "id": "e4e925d8",
   "metadata": {},
   "source": [
    "Q3: In this question you have to scrape data using the filters available on the webpage as shown below:\n",
    "You have to use the location and salary filter.\n",
    "You have to scrape data for “Data Scientist” designation for first 10 job results.\n",
    "You have to scrape the job-title, job-location, company name, experience required.\n",
    "The location filter to be used is “Delhi/NCR”. The salary filter to be used is “3-6” lakhs"
   ]
  },
  {
   "cell_type": "code",
   "execution_count": 13,
   "id": "3723b1ef",
   "metadata": {},
   "outputs": [],
   "source": [
    "from selenium import webdriver"
   ]
  },
  {
   "cell_type": "code",
   "execution_count": 89,
   "id": "9131bec2",
   "metadata": {},
   "outputs": [],
   "source": [
    "#First step is to connect to the driver\n",
    "driver=webdriver.Chrome(r\"D:\\\\chromedriver.exe\")"
   ]
  },
  {
   "cell_type": "code",
   "execution_count": 90,
   "id": "4fe6c237",
   "metadata": {},
   "outputs": [],
   "source": [
    "#opening the naukri page on automated chrome browser\n",
    "driver.get(\"https://www.naukri.com/\")"
   ]
  },
  {
   "cell_type": "code",
   "execution_count": 91,
   "id": "1a8ce1c7",
   "metadata": {},
   "outputs": [],
   "source": [
    "#Entering the designation as Data ” in “Skill, Designations, Companies” field  as per the question\n",
    "designation=driver.find_element(By.CLASS_NAME, \"suggestor-input\")\n",
    "designation.send_keys(\"Data Scientist\")"
   ]
  },
  {
   "cell_type": "code",
   "execution_count": 92,
   "id": "2a8530a7",
   "metadata": {},
   "outputs": [],
   "source": [
    "search=driver.find_element(By.CLASS_NAME, \"qsbSubmit\")\n",
    "search.click()"
   ]
  },
  {
   "cell_type": "code",
   "execution_count": 93,
   "id": "b3942824",
   "metadata": {},
   "outputs": [],
   "source": [
    "#filtering location and salary keys through id\n",
    "\n",
    "location=driver.find_element(By.XPATH, '//*[@id=\"root\"]/div[4]/div/section[1]/div[2]/div[5]/div[2]').find_element(By.XPATH, '//*[@id=\"root\"]/div[4]/div/section[1]/div[2]/div[5]/div[2]/div[3]').click()"
   ]
  },
  {
   "cell_type": "code",
   "execution_count": 94,
   "id": "a271ec07",
   "metadata": {},
   "outputs": [],
   "source": [
    "Salary=driver.find_element(By.XPATH, '//*[@id=\"root\"]/div[4]/div/section[1]/div[2]/div[6]/div[2]').find_element(By.XPATH, '//*[@id=\"root\"]/div[4]/div/section[1]/div[2]/div[6]/div[2]/div[2]').click()\n"
   ]
  },
  {
   "cell_type": "code",
   "execution_count": 95,
   "id": "b355eb3d",
   "metadata": {},
   "outputs": [
    {
     "data": {
      "text/plain": [
       "['Data Scientist',\n",
       " 'DigitalBCG GAMMA Data Scientist',\n",
       " 'Data Scientist',\n",
       " 'Lead Data Scientist',\n",
       " 'Data Scientist',\n",
       " 'Data Scientist / Chat-bot Developer',\n",
       " 'Data Scientist - Engine Algorithm',\n",
       " 'Data Activation Specialist - Adobe Target',\n",
       " 'Data Specialist',\n",
       " 'Data Scientist']"
      ]
     },
     "execution_count": 95,
     "metadata": {},
     "output_type": "execute_result"
    }
   ],
   "source": [
    "#in order to save the scrape data of job-title, job-location, company name, experience required, create an empty list\n",
    "job_title=[]\n",
    "\n",
    "JobTitle=driver.find_elements(By.XPATH, '//a[@class=\"title fw500 ellipsis\"]')\n",
    "for j in JobTitle[0:10]:\n",
    "    title=j.text\n",
    "    job_title.append(title)\n",
    "    \n",
    "job_title"
   ]
  },
  {
   "cell_type": "code",
   "execution_count": 96,
   "id": "355b9ed4",
   "metadata": {},
   "outputs": [
    {
     "data": {
      "text/plain": [
       "['Noida, Nagpur, Bangalore/Bengaluru',\n",
       " 'New Delhi, Bangalore/Bengaluru',\n",
       " 'Gurgaon/Gurugram',\n",
       " 'Noida(Sector-59 Noida)\\n(WFH during Covid)',\n",
       " 'Gurgaon/Gurugram',\n",
       " 'New Delhi, Bangalore/Bengaluru, Mumbai (All Areas)',\n",
       " 'Delhi / NCR, Kolkata, Mumbai, Hyderabad/Secunderabad, Lucknow, Chennai, Ahmedabad, Bangalore/Bengaluru',\n",
       " 'Delhi / NCR, Kolkata, Mumbai, Hyderabad/Secunderabad, Lucknow, Chennai, Ahmedabad, Bangalore/Bengaluru',\n",
       " 'Noida',\n",
       " 'Noida']"
      ]
     },
     "execution_count": 96,
     "metadata": {},
     "output_type": "execute_result"
    }
   ],
   "source": [
    "job_location=[]\n",
    "location=driver.find_elements(By.XPATH, '//li[@class=\"fleft grey-text br2 placeHolderLi location\"]')\n",
    "\n",
    "for h in location[0:10]:\n",
    "    h=h.text\n",
    "    job_location.append(h)\n",
    "    \n",
    "job_location"
   ]
  },
  {
   "cell_type": "code",
   "execution_count": 102,
   "id": "a0ba59df",
   "metadata": {},
   "outputs": [
    {
     "data": {
      "text/plain": [
       "['GlobalLogic',\n",
       " 'Boston Consulting Group',\n",
       " 'IHS Markit',\n",
       " 'R Systems International',\n",
       " 'Optum',\n",
       " 'Big Seo Buzz',\n",
       " 'Primo Hiring',\n",
       " 'Okda Solutions',\n",
       " 'RCPC',\n",
       " 'NGI Ventures']"
      ]
     },
     "execution_count": 102,
     "metadata": {},
     "output_type": "execute_result"
    }
   ],
   "source": [
    "company_name=[]\n",
    "for name in driver.find_elements(By.XPATH, '//a[@class=\"subTitle ellipsis fleft\"]')[0:10]:\n",
    "    company_name.append(name.text)\n",
    "    \n",
    "company_name"
   ]
  },
  {
   "cell_type": "code",
   "execution_count": 103,
   "id": "8b532e7c",
   "metadata": {},
   "outputs": [
    {
     "data": {
      "text/plain": [
       "['8-10 Yrs',\n",
       " '2-5 Yrs',\n",
       " '3-6 Yrs',\n",
       " '7-10 Yrs',\n",
       " '2-7 Yrs',\n",
       " '3-7 Yrs',\n",
       " '1-3 Yrs',\n",
       " '7-10 Yrs',\n",
       " '4-6 Yrs',\n",
       " '0-5 Yrs']"
      ]
     },
     "execution_count": 103,
     "metadata": {},
     "output_type": "execute_result"
    }
   ],
   "source": [
    "experience_required=[]\n",
    "\n",
    "\n",
    "\n",
    "for i in driver.find_elements(By.XPATH, '//li[@class=\"fleft grey-text br2 placeHolderLi experience\"]')[0:10]:\n",
    "    experience_required.append(i.text)\n",
    "    \n",
    "experience_required"
   ]
  },
  {
   "cell_type": "markdown",
   "id": "35407c2e",
   "metadata": {},
   "source": [
    "#i have tried a lot to extract only text from the above code but it was not happend to me plz check my code and let me know  where i did the mistake"
   ]
  },
  {
   "cell_type": "code",
   "execution_count": 104,
   "id": "4d564f53",
   "metadata": {},
   "outputs": [
    {
     "name": "stdout",
     "output_type": "stream",
     "text": [
      "10 10 10 10\n"
     ]
    }
   ],
   "source": [
    "print(len(job_title), len(job_location), len(company_name), len(experience_required))"
   ]
  },
  {
   "cell_type": "code",
   "execution_count": 106,
   "id": "b1ef5504",
   "metadata": {},
   "outputs": [
    {
     "data": {
      "text/html": [
       "<div>\n",
       "<style scoped>\n",
       "    .dataframe tbody tr th:only-of-type {\n",
       "        vertical-align: middle;\n",
       "    }\n",
       "\n",
       "    .dataframe tbody tr th {\n",
       "        vertical-align: top;\n",
       "    }\n",
       "\n",
       "    .dataframe thead th {\n",
       "        text-align: right;\n",
       "    }\n",
       "</style>\n",
       "<table border=\"1\" class=\"dataframe\">\n",
       "  <thead>\n",
       "    <tr style=\"text-align: right;\">\n",
       "      <th></th>\n",
       "      <th>job-title</th>\n",
       "      <th>job-location</th>\n",
       "      <th>company_name</th>\n",
       "      <th>experience_required</th>\n",
       "    </tr>\n",
       "  </thead>\n",
       "  <tbody>\n",
       "    <tr>\n",
       "      <th>0</th>\n",
       "      <td>Data Scientist</td>\n",
       "      <td>Noida, Nagpur, Bangalore/Bengaluru</td>\n",
       "      <td>GlobalLogic</td>\n",
       "      <td>8-10 Yrs</td>\n",
       "    </tr>\n",
       "    <tr>\n",
       "      <th>1</th>\n",
       "      <td>DigitalBCG GAMMA Data Scientist</td>\n",
       "      <td>New Delhi, Bangalore/Bengaluru</td>\n",
       "      <td>Boston Consulting Group</td>\n",
       "      <td>2-5 Yrs</td>\n",
       "    </tr>\n",
       "    <tr>\n",
       "      <th>2</th>\n",
       "      <td>Data Scientist</td>\n",
       "      <td>Gurgaon/Gurugram</td>\n",
       "      <td>IHS Markit</td>\n",
       "      <td>3-6 Yrs</td>\n",
       "    </tr>\n",
       "    <tr>\n",
       "      <th>3</th>\n",
       "      <td>Lead Data Scientist</td>\n",
       "      <td>Noida(Sector-59 Noida)\\n(WFH during Covid)</td>\n",
       "      <td>R Systems International</td>\n",
       "      <td>7-10 Yrs</td>\n",
       "    </tr>\n",
       "    <tr>\n",
       "      <th>4</th>\n",
       "      <td>Data Scientist</td>\n",
       "      <td>Gurgaon/Gurugram</td>\n",
       "      <td>Optum</td>\n",
       "      <td>2-7 Yrs</td>\n",
       "    </tr>\n",
       "    <tr>\n",
       "      <th>5</th>\n",
       "      <td>Data Scientist / Chat-bot Developer</td>\n",
       "      <td>New Delhi, Bangalore/Bengaluru, Mumbai (All Ar...</td>\n",
       "      <td>Big Seo Buzz</td>\n",
       "      <td>3-7 Yrs</td>\n",
       "    </tr>\n",
       "    <tr>\n",
       "      <th>6</th>\n",
       "      <td>Data Scientist - Engine Algorithm</td>\n",
       "      <td>Delhi / NCR, Kolkata, Mumbai, Hyderabad/Secund...</td>\n",
       "      <td>Primo Hiring</td>\n",
       "      <td>1-3 Yrs</td>\n",
       "    </tr>\n",
       "    <tr>\n",
       "      <th>7</th>\n",
       "      <td>Data Activation Specialist - Adobe Target</td>\n",
       "      <td>Delhi / NCR, Kolkata, Mumbai, Hyderabad/Secund...</td>\n",
       "      <td>Okda Solutions</td>\n",
       "      <td>7-10 Yrs</td>\n",
       "    </tr>\n",
       "    <tr>\n",
       "      <th>8</th>\n",
       "      <td>Data Specialist</td>\n",
       "      <td>Noida</td>\n",
       "      <td>RCPC</td>\n",
       "      <td>4-6 Yrs</td>\n",
       "    </tr>\n",
       "    <tr>\n",
       "      <th>9</th>\n",
       "      <td>Data Scientist</td>\n",
       "      <td>Noida</td>\n",
       "      <td>NGI Ventures</td>\n",
       "      <td>0-5 Yrs</td>\n",
       "    </tr>\n",
       "  </tbody>\n",
       "</table>\n",
       "</div>"
      ],
      "text/plain": [
       "                                   job-title  \\\n",
       "0                             Data Scientist   \n",
       "1            DigitalBCG GAMMA Data Scientist   \n",
       "2                             Data Scientist   \n",
       "3                        Lead Data Scientist   \n",
       "4                             Data Scientist   \n",
       "5        Data Scientist / Chat-bot Developer   \n",
       "6          Data Scientist - Engine Algorithm   \n",
       "7  Data Activation Specialist - Adobe Target   \n",
       "8                            Data Specialist   \n",
       "9                             Data Scientist   \n",
       "\n",
       "                                        job-location             company_name  \\\n",
       "0                 Noida, Nagpur, Bangalore/Bengaluru              GlobalLogic   \n",
       "1                     New Delhi, Bangalore/Bengaluru  Boston Consulting Group   \n",
       "2                                   Gurgaon/Gurugram               IHS Markit   \n",
       "3         Noida(Sector-59 Noida)\\n(WFH during Covid)  R Systems International   \n",
       "4                                   Gurgaon/Gurugram                    Optum   \n",
       "5  New Delhi, Bangalore/Bengaluru, Mumbai (All Ar...             Big Seo Buzz   \n",
       "6  Delhi / NCR, Kolkata, Mumbai, Hyderabad/Secund...             Primo Hiring   \n",
       "7  Delhi / NCR, Kolkata, Mumbai, Hyderabad/Secund...           Okda Solutions   \n",
       "8                                              Noida                     RCPC   \n",
       "9                                              Noida             NGI Ventures   \n",
       "\n",
       "  experience_required  \n",
       "0            8-10 Yrs  \n",
       "1             2-5 Yrs  \n",
       "2             3-6 Yrs  \n",
       "3            7-10 Yrs  \n",
       "4             2-7 Yrs  \n",
       "5             3-7 Yrs  \n",
       "6             1-3 Yrs  \n",
       "7            7-10 Yrs  \n",
       "8             4-6 Yrs  \n",
       "9             0-5 Yrs  "
      ]
     },
     "execution_count": 106,
     "metadata": {},
     "output_type": "execute_result"
    }
   ],
   "source": [
    "df3=pd.DataFrame({\"job-title\":job_title, \"job-location\":job_location, \"company_name\":company_name, \"experience_required\":experience_required})\n",
    "df3"
   ]
  },
  {
   "cell_type": "markdown",
   "id": "26b08572",
   "metadata": {},
   "source": [
    "4. Scrape data of first 100 sunglasses listings on flipkart.com. You have to scrape four attributes:\n",
    "1. Brand\n",
    "2. Product Description\n",
    "3. Price\n",
    "The attributes which you have to scrape is ticked marked in the below image."
   ]
  },
  {
   "cell_type": "code",
   "execution_count": 10,
   "id": "a16cd92a",
   "metadata": {},
   "outputs": [],
   "source": [
    "#First step is to connect to the driver\n",
    "driver=webdriver.Chrome(r\"D:\\\\chromedriver.exe\")"
   ]
  },
  {
   "cell_type": "code",
   "execution_count": 11,
   "id": "12056675",
   "metadata": {},
   "outputs": [],
   "source": [
    "#load the flipcart page on automated chrome browser\n",
    "driver.get(\" https://www.flipkart.com/\")"
   ]
  },
  {
   "cell_type": "code",
   "execution_count": 12,
   "id": "e94bd1c0",
   "metadata": {},
   "outputs": [],
   "source": [
    "#erasing the pop-up button\n",
    "Button=driver.find_element(By.XPATH, '/html/body/div[2]/div/div/button').click()"
   ]
  },
  {
   "cell_type": "code",
   "execution_count": 13,
   "id": "f1ea6691",
   "metadata": {},
   "outputs": [],
   "source": [
    "#Enter “sunglasses” in the search field where “search for products, brands and more” is written  as per the question\n",
    "input_search=driver.find_element(By.CLASS_NAME, \"_3704LK\")\n",
    "input_search.send_keys(\"sunglasses\")"
   ]
  },
  {
   "cell_type": "code",
   "execution_count": 14,
   "id": "ae6a1761",
   "metadata": {},
   "outputs": [],
   "source": [
    "search=driver.find_element(By.CLASS_NAME, \"L0Z3Pu\")\n",
    "search.click()"
   ]
  },
  {
   "cell_type": "code",
   "execution_count": 31,
   "id": "e5688595",
   "metadata": {},
   "outputs": [
    {
     "name": "stdout",
     "output_type": "stream",
     "text": [
      "scraping page 1\n",
      "scraping page 2\n",
      "scraping page 3\n"
     ]
    }
   ],
   "source": [
    "#scrape products from flipcart\n",
    "Brand=[]\n",
    "start=0\n",
    "end=3\n",
    "for j in range(start,end):\n",
    "    print(\"scraping page\", j+1)\n",
    "    brand=driver.find_elements(By.XPATH, '//div[@class=\"_2WkVRV\"]')\n",
    "    for i in brand:\n",
    "        Brand.append(i.text)\n",
    "    next_page=driver.find_element(By.XPATH, '//a[@class=\"_1LKTO3\"]')\n",
    "    next_page.click() \n",
    "    time.sleep(3)"
   ]
  },
  {
   "cell_type": "code",
   "execution_count": 32,
   "id": "36ab798e",
   "metadata": {},
   "outputs": [
    {
     "data": {
      "text/plain": [
       "120"
      ]
     },
     "execution_count": 32,
     "metadata": {},
     "output_type": "execute_result"
    }
   ],
   "source": [
    "len(Brand)"
   ]
  },
  {
   "cell_type": "code",
   "execution_count": 21,
   "id": "a2a43da2",
   "metadata": {},
   "outputs": [
    {
     "data": {
      "text/plain": [
       "['ROYAL SON',\n",
       " 'AISLIN',\n",
       " 'Rich Club',\n",
       " 'Guru Randhawa',\n",
       " 'POLAROID',\n",
       " 'ROYAL SON',\n",
       " 'ROYAL SON',\n",
       " 'Billion',\n",
       " 'CRYSTAL CART',\n",
       " 'Anemone',\n",
       " 'ROYAL SON',\n",
       " 'METRONAUT',\n",
       " 'Ray-Ban',\n",
       " 'elegante',\n",
       " 'HRX by Hrithik Roshan',\n",
       " 'GANSTA',\n",
       " 'ROYAL SON',\n",
       " 'METRONAUT',\n",
       " 'TheWhoop',\n",
       " 'Arnette',\n",
       " 'GANSTA',\n",
       " 'METRONAUT',\n",
       " 'GANSTA',\n",
       " 'NuVew',\n",
       " 'Rich Club',\n",
       " 'VINCENT CHASE',\n",
       " 'GANSTA',\n",
       " 'METRONAUT',\n",
       " 'Poloport',\n",
       " 'AISLIN',\n",
       " 'Hooper',\n",
       " 'GANSTA',\n",
       " 'Klowage',\n",
       " 'FOSSIL',\n",
       " 'ROYAL SON',\n",
       " 'Cruze',\n",
       " 'POLAROID',\n",
       " 'METRONAUT',\n",
       " 'OAKLEY',\n",
       " 'shah collections',\n",
       " 'CARRERA',\n",
       " 'FOSSIL',\n",
       " 'Singco India',\n",
       " 'LIZA ANGEL',\n",
       " 'AISLIN',\n",
       " 'Rich Club',\n",
       " 'POLAROID',\n",
       " 'CARRERA',\n",
       " 'OAKLEY',\n",
       " 'Ray-Ban',\n",
       " 'CARRERA',\n",
       " 'POLAROID',\n",
       " 'VINCENT CHASE',\n",
       " 'Ray-Ban',\n",
       " 'NuVew',\n",
       " 'New Specs',\n",
       " 'CARRERA',\n",
       " 'CARRERA',\n",
       " 'Fastrack',\n",
       " 'PIRASO',\n",
       " 'FOSSIL',\n",
       " 'ROZZETTA CRAFT',\n",
       " 'Ray-Ban',\n",
       " 'IDEE',\n",
       " 'elegante',\n",
       " 'JustChhapo',\n",
       " 'CARRERA',\n",
       " 'GANSTA',\n",
       " 'Urbanic',\n",
       " 'Ray-Ban',\n",
       " 'CARRERA',\n",
       " 'POLAROID',\n",
       " 'Ray-Ban',\n",
       " 'Ray-Ban',\n",
       " 'CRYSTAL CART',\n",
       " 'VINCENT CHASE',\n",
       " 'FOSSIL',\n",
       " 'FOSSIL',\n",
       " 'Ray-Ban',\n",
       " 'VINCENT CHASE',\n",
       " 'GANSTA',\n",
       " 'ROYAL SON',\n",
       " 'Dannilo',\n",
       " 'AISLIN',\n",
       " 'AISLIN',\n",
       " 'kingsunglasses',\n",
       " 'GANSTA',\n",
       " 'GANSTA',\n",
       " 'Arnette',\n",
       " 'Fastrack',\n",
       " 'Billion',\n",
       " 'AISLIN',\n",
       " 'ROYAL SON',\n",
       " 'CRYSTAL CART',\n",
       " 'Elligator',\n",
       " 'ROZZETTA CRAFT',\n",
       " 'Cristiano Ronnie',\n",
       " 'Billion',\n",
       " 'Ray-Ban',\n",
       " 'Rich Club']"
      ]
     },
     "execution_count": 21,
     "metadata": {},
     "output_type": "execute_result"
    }
   ],
   "source": [
    "Brand[:100]"
   ]
  },
  {
   "cell_type": "code",
   "execution_count": 33,
   "id": "8b0299d2",
   "metadata": {},
   "outputs": [
    {
     "data": {
      "text/plain": [
       "['Mirrored Aviator Sunglasses (55)',\n",
       " 'UV Protection, Gradient Rectangular Sunglasses (Free Si...',\n",
       " 'by Lenskart Polarized, UV Protection Wayfarer Sunglasse...',\n",
       " 'UV Protection Wayfarer Sunglasses (Free Size)',\n",
       " 'UV Protection Retro Square Sunglasses (53)',\n",
       " 'UV Protection, Gradient Butterfly Sunglasses (62)',\n",
       " 'UV Protection Wayfarer Sunglasses (32)',\n",
       " 'Mirrored, UV Protection Wayfarer Sunglasses (Free Size)',\n",
       " 'UV Protection Aviator Sunglasses (58)',\n",
       " 'UV Protection Aviator Sunglasses (Free Size)',\n",
       " 'UV Protection Wayfarer Sunglasses (57)',\n",
       " 'Gradient, UV Protection Wayfarer Sunglasses (Free Size)',\n",
       " 'Polarized, UV Protection Wayfarer Sunglasses (61)',\n",
       " 'UV Protection Rectangular Sunglasses (55)',\n",
       " 'Polarized Retro Square Sunglasses (Free Size)',\n",
       " 'UV Protection Wayfarer Sunglasses (Free Size)',\n",
       " 'UV Protection Wayfarer Sunglasses (50)',\n",
       " 'UV Protection Aviator Sunglasses (58)',\n",
       " 'UV Protection Aviator Sunglasses (Free Size)',\n",
       " 'UV Protection Aviator Sunglasses (55)',\n",
       " 'Mirrored Aviator Sunglasses (Free Size)',\n",
       " 'UV Protection Wayfarer Sunglasses (18)',\n",
       " 'Gradient, UV Protection Aviator Sunglasses (58)',\n",
       " 'UV Protection, Night Vision, Riding Glasses Wayfarer Su...',\n",
       " 'UV Protection, Mirrored Sports Sunglasses (62)',\n",
       " 'UV Protection Rectangular Sunglasses (Free Size)',\n",
       " 'UV Protection Round Sunglasses (47)',\n",
       " 'Polarized, UV Protection Wayfarer, Retro Square Sunglas...',\n",
       " 'UV Protection Round Sunglasses (52)',\n",
       " 'UV Protection Wayfarer Sunglasses (56)',\n",
       " 'by Lenskart Polarized, UV Protection Cat-eye Sunglasses...',\n",
       " 'Night Vision, Riding Glasses Rectangular Sunglasses (60...',\n",
       " 'Polarized, UV Protection Round Sunglasses (51)',\n",
       " 'UV Protection Aviator Sunglasses (54)',\n",
       " 'UV Protection Aviator Sunglasses (57)',\n",
       " 'Polarized, UV Protection Sports Sunglasses (68)',\n",
       " 'by Lenskart Polarized, UV Protection Round Sunglasses (...',\n",
       " 'UV Protection, Gradient Rectangular Sunglasses (Free Si...',\n",
       " 'Polarized, UV Protection Retro Square Sunglasses (62)',\n",
       " 'UV Protection Aviator Sunglasses (Free Size)',\n",
       " 'UV Protection Wayfarer Sunglasses (Free Size)',\n",
       " 'Polarized, UV Protection, Riding Glasses Wayfarer Sungl...',\n",
       " 'UV Protection Round Sunglasses (54)',\n",
       " 'UV Protection, Polarized Wayfarer Sunglasses (Free Size...',\n",
       " 'UV Protection Aviator Sunglasses (54)',\n",
       " 'UV Protection Rectangular Sunglasses (Free Size)',\n",
       " 'UV Protection Aviator Sunglasses (57)',\n",
       " 'UV Protection Aviator Sunglasses (58)',\n",
       " 'Polarized, UV Protection Aviator Sunglasses (58)',\n",
       " 'UV Protection, Mirrored Wayfarer Sunglasses (54)',\n",
       " 'UV Protection, Mirrored Wayfarer Sunglasses (54)',\n",
       " 'UV Protection Aviator Sunglasses (Free Size)',\n",
       " 'UV Protection Wayfarer Sunglasses (Free Size)',\n",
       " 'UV Protection Rectangular Sunglasses (Free Size)',\n",
       " 'UV Protection Rectangular Sunglasses (52)',\n",
       " 'UV Protection, Mirrored Aviator Sunglasses (57)',\n",
       " 'UV Protection Rectangular Sunglasses (Free Size)',\n",
       " 'by Lenskart Polarized, UV Protection Aviator Sunglasses...',\n",
       " 'UV Protection Shield Sunglasses (Free Size)',\n",
       " 'UV Protection Aviator Sunglasses (54)',\n",
       " 'Mirrored, Night Vision, UV Protection, Riding Glasses S...',\n",
       " 'UV Protection, Riding Glasses Retro Square Sunglasses (...',\n",
       " 'UV Protection Rectangular Sunglasses (55)',\n",
       " 'by Lenskart Polarized, UV Protection Cat-eye Sunglasses...',\n",
       " 'UV Protection Aviator Sunglasses (54)',\n",
       " 'UV Protection Round Sunglasses (52)',\n",
       " 'UV Protection Aviator Sunglasses (Free Size)',\n",
       " 'UV Protection Wayfarer Sunglasses (55)',\n",
       " 'UV Protection, Mirrored Wayfarer Sunglasses (57)',\n",
       " 'Mirrored, UV Protection, Riding Glasses, Others Round S...',\n",
       " 'Gradient, UV Protection Aviator Sunglasses (57)',\n",
       " 'Riding Glasses, Night Vision Spectacle Sunglasses (Fre...',\n",
       " 'UV Protection Retro Square Sunglasses (53)',\n",
       " 'UV Protection Wayfarer Sunglasses (Free Size)',\n",
       " 'UV Protection Aviator Sunglasses (58)',\n",
       " 'Gradient, UV Protection Wayfarer Sunglasses (Free Size)',\n",
       " 'Gradient, UV Protection Wayfarer Sunglasses (Free Size)',\n",
       " 'UV Protection Wrap-around Sunglasses (Free Size)',\n",
       " 'UV Protection, Polarized, Mirrored Rectangular Sunglass...',\n",
       " 'UV Protection Round Sunglasses (Free Size)',\n",
       " 'UV Protection, Gradient Butterfly Sunglasses (62)',\n",
       " 'UV Protection Aviator Sunglasses (58)',\n",
       " 'by Lenskart Polarized, UV Protection Wayfarer Sunglasse...',\n",
       " 'UV Protection Wayfarer Sunglasses (Free Size)',\n",
       " 'UV Protection Retro Square Sunglasses (53)',\n",
       " 'UV Protection Wrap-around Sunglasses (Free Size)',\n",
       " 'UV Protection Wayfarer Sunglasses (57)',\n",
       " 'UV Protection Wayfarer Sunglasses (32)',\n",
       " 'Mirrored, UV Protection Wayfarer Sunglasses (Free Size)',\n",
       " 'UV Protection Aviator Sunglasses (Free Size)',\n",
       " 'UV Protection Round Sunglasses (Free Size)',\n",
       " 'Gradient, UV Protection Wayfarer Sunglasses (Free Size)',\n",
       " 'Polarized, UV Protection Wayfarer Sunglasses (61)',\n",
       " 'UV Protection Wayfarer Sunglasses (Free Size)',\n",
       " 'UV Protection Rectangular Sunglasses (55)',\n",
       " 'Polarized Retro Square Sunglasses (Free Size)',\n",
       " 'Mirrored Aviator Sunglasses (Free Size)',\n",
       " 'UV Protection Aviator Sunglasses (Free Size)',\n",
       " 'UV Protection Wayfarer Sunglasses (50)',\n",
       " 'UV Protection Aviator Sunglasses (58)',\n",
       " 'UV Protection Aviator Sunglasses (55)',\n",
       " 'UV Protection Round Sunglasses (52)',\n",
       " 'UV Protection Rectangular Sunglasses (Free Size)',\n",
       " 'UV Protection, Night Vision, Riding Glasses Wayfarer Su...',\n",
       " 'UV Protection, Mirrored Sports Sunglasses (62)',\n",
       " 'UV Protection Wayfarer Sunglasses (18)',\n",
       " 'UV Protection Round Sunglasses (47)',\n",
       " 'by Lenskart Polarized, UV Protection Cat-eye Sunglasses...',\n",
       " 'Polarized, UV Protection Wayfarer, Retro Square Sunglas...',\n",
       " 'UV Protection Wayfarer Sunglasses (56)',\n",
       " 'UV Protection Aviator Sunglasses (57)',\n",
       " 'Gradient, UV Protection Aviator Sunglasses (58)',\n",
       " 'UV Protection, Gradient Rectangular Sunglasses (Free Si...',\n",
       " 'Polarized, UV Protection Sports Sunglasses (68)',\n",
       " 'UV Protection Aviator Sunglasses (54)',\n",
       " 'Night Vision, Riding Glasses Rectangular Sunglasses (60...',\n",
       " 'Polarized, UV Protection Round Sunglasses (51)',\n",
       " 'Polarized Rectangular Sunglasses (60)',\n",
       " 'Mirrored, UV Protection Aviator Sunglasses (58)',\n",
       " 'UV Protection Round Sunglasses (52)']"
      ]
     },
     "execution_count": 33,
     "metadata": {},
     "output_type": "execute_result"
    }
   ],
   "source": [
    "Product_Description=[]\n",
    "for product in range(3):\n",
    "    product_des=driver.find_elements(By.XPATH, '//a[@class=\"IRpwTa\"]')\n",
    "    for i in product_des:\n",
    "        Product_Description.append(i.text)\n",
    "    next_page=driver.find_element(By.XPATH, '//a[@class=\"_1LKTO3\"]') #to scrape the data from next pages\n",
    "    next_page.click()\n",
    "    time.sleep(3)\n",
    "Product_Description"
   ]
  },
  {
   "cell_type": "code",
   "execution_count": 34,
   "id": "995a0c69",
   "metadata": {},
   "outputs": [
    {
     "data": {
      "text/plain": [
       "120"
      ]
     },
     "execution_count": 34,
     "metadata": {},
     "output_type": "execute_result"
    }
   ],
   "source": [
    "len(Product_Description)"
   ]
  },
  {
   "cell_type": "code",
   "execution_count": 108,
   "id": "ab7540b1",
   "metadata": {},
   "outputs": [],
   "source": [
    "Price=[]\n",
    "for price in driver.find_elements(By.XPATH, '//div[@class=\"_30jeq3\"]')[:100]:\n",
    "    price.append(price.text)\n",
    "    "
   ]
  },
  {
   "cell_type": "code",
   "execution_count": null,
   "id": "227b93fe",
   "metadata": {},
   "outputs": [],
   "source": []
  },
  {
   "cell_type": "markdown",
   "id": "1e9e7f1c",
   "metadata": {},
   "source": [
    "# Scrape 100 reviews data from flipkart.com for iphone11 phone.\n",
    "This task will be done in following steps:\n",
    "1. First get the webpage https://www.flipkart.com/\n",
    "2. Enter “iphone 11” in “Search” field .\n",
    "3. Then click the search button."
   ]
  },
  {
   "cell_type": "code",
   "execution_count": 2,
   "id": "b4aa5754",
   "metadata": {},
   "outputs": [],
   "source": [
    "from selenium import webdriver\n",
    "from time import sleep"
   ]
  },
  {
   "cell_type": "code",
   "execution_count": 73,
   "id": "acc820fe",
   "metadata": {},
   "outputs": [],
   "source": [
    "#First step is to connect to the driver\n",
    "driver=webdriver.Chrome(r\"D:\\\\chromedriver.exe\")"
   ]
  },
  {
   "cell_type": "code",
   "execution_count": 74,
   "id": "7c6ff69b",
   "metadata": {},
   "outputs": [],
   "source": [
    "#load the flipcart page on automated chrome browser\n",
    "driver.get(\" https://www.flipkart.com/\")"
   ]
  },
  {
   "cell_type": "code",
   "execution_count": 75,
   "id": "38771376",
   "metadata": {},
   "outputs": [],
   "source": [
    "#Removing the pop-up button\n",
    "Button=driver.find_element(By.XPATH, '/html/body/div[2]/div/div/button').click()"
   ]
  },
  {
   "cell_type": "code",
   "execution_count": 76,
   "id": "eccabeec",
   "metadata": {},
   "outputs": [],
   "source": [
    "#Enter “iphone 11” in the search field where “search for products, brands and more” is written  as per the question\n",
    "input_search=driver.find_element(By.CLASS_NAME, \"_3704LK\")\n",
    "input_search.send_keys(\"iphone 11\")"
   ]
  },
  {
   "cell_type": "code",
   "execution_count": 77,
   "id": "28f3d865",
   "metadata": {},
   "outputs": [],
   "source": [
    "search=driver.find_element(By.CLASS_NAME, \"L0Z3Pu\")\n",
    "search.click()"
   ]
  },
  {
   "cell_type": "code",
   "execution_count": 78,
   "id": "3288f0e5",
   "metadata": {},
   "outputs": [],
   "source": [
    "Select_phone=driver.find_element(By.XPATH, '//div[@class=\"_4rR01T\"]').click()\n"
   ]
  },
  {
   "cell_type": "code",
   "execution_count": 80,
   "id": "3aa53a80",
   "metadata": {},
   "outputs": [],
   "source": [
    "Select_review=driver.find_elements(By.XPATH, '//*[@id=\"container\"]/div/div[3]/div[1]/div[2]/div[10]/div[7]/div/a')"
   ]
  },
  {
   "cell_type": "code",
   "execution_count": 165,
   "id": "024ec477",
   "metadata": {},
   "outputs": [
    {
     "data": {
      "text/plain": [
       "['5', '5', '5', '4', '5', '5', '5']"
      ]
     },
     "execution_count": 165,
     "metadata": {},
     "output_type": "execute_result"
    }
   ],
   "source": [
    "Rating=[]\n",
    "\n",
    "for j in driver.find_elements(By.XPATH, '//div[@class=\"_3LWZlK _1BLPMq\"]'):\n",
    "    Rating.append(j.text)\n",
    "    \n",
    "Rating"
   ]
  },
  {
   "cell_type": "code",
   "execution_count": 164,
   "id": "92d62df8",
   "metadata": {},
   "outputs": [
    {
     "data": {
      "text/plain": [
       "['Perfect product!',\n",
       " 'Terrific',\n",
       " 'Simply awesome',\n",
       " \"Don't waste your money\",\n",
       " 'Good quality product',\n",
       " 'Perfect product!',\n",
       " 'Fabulous!',\n",
       " 'Mind-blowing purchase']"
      ]
     },
     "execution_count": 164,
     "metadata": {},
     "output_type": "execute_result"
    }
   ],
   "source": [
    "Review_summary=[]\n",
    "summary=driver.find_elements(By.XPATH, '//p[@class=\"_2-N8zT\"]')\n",
    "for j in summary:\n",
    "    Review_summary.append(j.text)\n",
    "\n",
    "Review_summary"
   ]
  },
  {
   "cell_type": "code",
   "execution_count": 178,
   "id": "82cbf9fa",
   "metadata": {},
   "outputs": [
    {
     "data": {
      "text/plain": [
       "[\"After using 3 years mobile review. Excellent & Awesome Mobile fully I love it mobile don't wait take it perfectly suits everyone very stylish and operating a...\\nRead full review\",\n",
       " 'I am using the phone for last 5 years and found no cons as such. The camera quality is bit low as compared to other iphone varient but it can be managable. B...\\nRead full review',\n",
       " 'Really satisfied with the Product I received... It’s totally genuine and the packaging was also really good so if ur planning to buy just go for it.',\n",
       " 'Very bad mic within 2 days my phone mic is not working no replacement horrible',\n",
       " \"impressively Nice......\\nOne of the greatest iPhone i ever used ....\\nAll was like Never before ...\\nit's just Amazing ...\\nBattery Life is too good ...2 Days wi...\\nRead full review\",\n",
       " 'Nice products thanks flkat',\n",
       " 'Fast performance to previous iPhone x\\nGood camera quality but the best part of night mode #killing\\n\\nI am already One-plus7\\nHuge difference between in night m...\\nRead full review',\n",
       " 'Fantastic and prompt delivery.']"
      ]
     },
     "execution_count": 178,
     "metadata": {},
     "output_type": "execute_result"
    }
   ],
   "source": [
    "Full_review=[]\n",
    "\n",
    "review=driver.find_elements(By.XPATH, '//div[@class=\"t-ZTKy\"]')\n",
    "for j in review:\n",
    "    Full_review.append(j.text)\n",
    "    \n",
    "Full_review"
   ]
  },
  {
   "cell_type": "code",
   "execution_count": null,
   "id": "6d9fbb5a",
   "metadata": {},
   "outputs": [],
   "source": []
  },
  {
   "cell_type": "markdown",
   "id": "bdd8fc81",
   "metadata": {},
   "source": [
    "Q6: Scrape data for first 100 sneakers you find when you visit flipkart.com and search for “sneakers” in the\n",
    "search field.\n",
    "You have to scrape 4 attributes of each sneaker:\n",
    "1. Brand\n",
    "2. Product Description\n",
    "3. Price"
   ]
  },
  {
   "cell_type": "code",
   "execution_count": 120,
   "id": "3e4457c7",
   "metadata": {},
   "outputs": [],
   "source": [
    "#First step is to connect to the driver\n",
    "driver=webdriver.Chrome(r\"D:\\\\chromedriver.exe\")"
   ]
  },
  {
   "cell_type": "code",
   "execution_count": 3,
   "id": "348ca402",
   "metadata": {},
   "outputs": [],
   "source": [
    "#load the flipcart page on automated chrome browser\n",
    "driver.get(\"https://www.flipkart.com/\")"
   ]
  },
  {
   "cell_type": "code",
   "execution_count": 4,
   "id": "1e113e07",
   "metadata": {},
   "outputs": [],
   "source": [
    "#Removing the pop-up button\n",
    "Button=driver.find_element(By.XPATH, '/html/body/div[2]/div/div/button').click()"
   ]
  },
  {
   "cell_type": "code",
   "execution_count": 5,
   "id": "d9f7b42a",
   "metadata": {},
   "outputs": [],
   "source": [
    "#Enter “sneakers” in the search field where “search for products, brands and more” is written  as per the question\n",
    "input_search=driver.find_element(By.CLASS_NAME, \"_3704LK\")\n",
    "input_search.send_keys(\"sneakers\")"
   ]
  },
  {
   "cell_type": "code",
   "execution_count": 6,
   "id": "e59cfbba",
   "metadata": {},
   "outputs": [],
   "source": [
    "search=driver.find_element(By.CLASS_NAME, \"L0Z3Pu\")\n",
    "search.click()"
   ]
  },
  {
   "cell_type": "code",
   "execution_count": 7,
   "id": "4e618d83",
   "metadata": {},
   "outputs": [],
   "source": [
    "Brand=[]\n",
    "for i in range(3):\n",
    "    brand=driver.find_elements(By.XPATH, '//div[@class=\"_2WkVRV\"]')\n",
    "    for i in brand:\n",
    "        i=i.text\n",
    "        Brand.append(i)\n",
    "    next_page=driver.find_element(By.XPATH, '//a[@class=\"_1LKTO3\"]')\n",
    "    next_page.click()\n",
    "    sleep(3)"
   ]
  },
  {
   "cell_type": "code",
   "execution_count": 9,
   "id": "5c1b333b",
   "metadata": {},
   "outputs": [],
   "source": [
    "Product_Description=[]\n",
    "for j in range(3):\n",
    "    product=driver.find_elements(By.XPATH, '//a[@class=\"IRpwTa\"]')\n",
    "    for i in product:\n",
    "        i=i.text\n",
    "        Product_Description.append(i)\n",
    "    next_page=driver.find_element(By.XPATH, '//a[@class=\"_1LKTO3\"]')\n",
    "    next_page.click()\n",
    "    sleep(3)"
   ]
  },
  {
   "cell_type": "code",
   "execution_count": 11,
   "id": "657d118f",
   "metadata": {},
   "outputs": [
    {
     "data": {
      "text/plain": [
       "['Go Run Fast - Sneakers For Women',\n",
       " 'Sneakers For Women',\n",
       " 'Sneaker Sneakers For Men',\n",
       " 'Exclusive Affordable Collection of Trendy & Stylish Cas...',\n",
       " '2 Combo Sneaker Shoes Sneakers For Men',\n",
       " 'BEACH BINGO - CLASSY CAT Sneakers For Women',\n",
       " 'Casual Sneakers White Shoes For Girls And Sneakers For ...',\n",
       " 'Casual Sneakers Canvas Shoes For Men Sneakers For Men',\n",
       " 'Sneakers For Men',\n",
       " 'Modena Sneakers For Women',\n",
       " 'Sneakers For Men',\n",
       " 'Latest Exclusive Affordable Collection of Trendy & Styl...',\n",
       " 'Tigonis Casuals For Men Sneakers For Men (White) Sneake...',\n",
       " 'Mesh | Ultralightweight | Comfortable | Breathable Walk...',\n",
       " 'Exclusive Sneaker Shoes Sneakers For Men',\n",
       " 'Sneakers Sneakers For Men',\n",
       " 'CR-1 Sneakers For Men',\n",
       " 'HRX by Hrithik Roshan Men White Solid Sneakers with Per...',\n",
       " 'Stylish & Trending Outdoor Walking Comfortable Sneakers...',\n",
       " \"Men's White Faux Leather Sneakers For Men\",\n",
       " 'Sneakers For Men',\n",
       " \"Perfect Stylish Casual Shoes For Girls & Women's Casual...\",\n",
       " '350 smart grey lace-ups casual for men Sneakers For Men',\n",
       " 'Sneakers For Men',\n",
       " 'Sneakers For Men',\n",
       " 'Mesh | Ultralightweight | Comfortable | Breathable Walk...',\n",
       " \"Men's Fashion Trend Sneakers Sneakers For Men\",\n",
       " '2 Combo Sneaker Shoes Sneakers For Men',\n",
       " 'MADRYN 2.O Sneakers For Men',\n",
       " 'Sneakers For Men',\n",
       " 'Latest Exclusive Affordable Collection of Trendy & Styl...',\n",
       " 'Combo Pack Of 2 Latest Stylish Casual Shoes for Men Lac...',\n",
       " 'Sneakers For Men',\n",
       " 'Breathable, Walking, Running, Casual, Gym Shoes Sneaker...',\n",
       " 'Sneakers For Men',\n",
       " 'Sneakers For Men',\n",
       " 'Sneakers For Men',\n",
       " \"Athleo ATG-610 Men's Black Maroon Mesh Best Running Gym...\",\n",
       " 'Sneakers For Men',\n",
       " 'Modern Trendy Shoes Sneakers For Men',\n",
       " 'Lightweight Pack Of 1 Trendy Sneakers Sneakers For Men',\n",
       " 'Sneakers For Men',\n",
       " 'Latest Collection-1215 Stylish Casual Sports Sneakers F...',\n",
       " 'Sneakers For Men',\n",
       " 'Sneakers For Men',\n",
       " 'Sneakers For Men',\n",
       " 'Sneakers For Men',\n",
       " 'TEDRICK Sneakers For Men',\n",
       " 'Men White Urban Street Athleisure Shoes Sneakers For Me...',\n",
       " 'Sneakers For Men',\n",
       " \"Original Luxury Branded Fashionable Men's Casual Walkin...\",\n",
       " 'Casual Sneakers For Men',\n",
       " 'Sneakers For Men',\n",
       " 'Casuals, Canvas, Partywear Sneakers For Men',\n",
       " 'Sneakers For Women',\n",
       " 'ATG-415 Mesh Lace-Ups Sneakers For Men',\n",
       " \"Athleo ATG-161 Men's Mesh Best Comfort Running Gym & Sp...\",\n",
       " 'Latest Collection-1216 Stylish Casual Sports Sneakers F...',\n",
       " 'Stylish & Trending Outdoor Walking Comfortable Sneakers...',\n",
       " 'Sneakers Sneakers For Men',\n",
       " 'Sneakers For Men',\n",
       " 'Fashion and Stylish Soft Ultralight Lace Up Sneakers Ca...',\n",
       " 'Skypy-31 Walking Shoes,Training Shoes,Sneakers,Loafers,...',\n",
       " \"Athleo ATG-487 Men's Navy Mesh Best Comfort Running Gym...\",\n",
       " \"Athleo ATG-496 Men's Navy Mesh Best Comfort Running Gym...\",\n",
       " 'Sneakers For Men',\n",
       " 'Latest Collection Black-349 Trendy & Stylish Casual Sne...',\n",
       " 'Sneakers For Men',\n",
       " 'Mesh Lace-Up Sneakers For Men',\n",
       " 'Mesh Lace-Up Sneakers For Men',\n",
       " 'Modern Trendy Sneakers Shoes Sneakers For Men',\n",
       " 'Sneakers For Men',\n",
       " 'True Black Shoe Sneakers For Men',\n",
       " 'JAMMERS-COOL BLOCK Sneakers For Women',\n",
       " 'Sneakers For Women',\n",
       " 'Sneaker Sneakers For Men',\n",
       " 'Exclusive Affordable Collection of Trendy & Stylish Cas...',\n",
       " '2 Combo Sneaker Shoes Sneakers For Men',\n",
       " 'Go Run Fast - Sneakers For Women',\n",
       " 'BEACH BINGO - CLASSY CAT Sneakers For Women',\n",
       " 'Casual Sneakers Canvas Shoes For Men Sneakers For Men',\n",
       " 'Sneakers For Men',\n",
       " 'Modena Sneakers For Women',\n",
       " 'Sneakers For Men',\n",
       " 'Latest Exclusive Affordable Collection of Trendy & Styl...',\n",
       " 'Tigonis Casuals For Men Sneakers For Men (White) Sneake...',\n",
       " 'Mesh | Ultralightweight | Comfortable | Breathable Walk...',\n",
       " 'Exclusive Sneaker Shoes Sneakers For Men',\n",
       " 'Sneakers Sneakers For Men',\n",
       " 'CR-1 Sneakers For Men',\n",
       " 'HRX by Hrithik Roshan Men White Solid Sneakers with Per...',\n",
       " 'Stylish & Trending Outdoor Walking Comfortable Sneakers...',\n",
       " \"Men's White Faux Leather Sneakers For Men\",\n",
       " 'Sneakers For Men',\n",
       " \"Perfect Stylish Casual Shoes For Girls & Women's Casual...\",\n",
       " '350 smart grey lace-ups casual for men Sneakers For Men',\n",
       " 'Sneakers For Men',\n",
       " 'Sneakers For Men',\n",
       " 'Mesh | Ultralightweight | Comfortable | Breathable Walk...',\n",
       " \"Men's Fashion Trend Sneakers Sneakers For Men\",\n",
       " '2 Combo Sneaker Shoes Sneakers For Men',\n",
       " 'MADRYN 2.O Sneakers For Men',\n",
       " 'Sneakers For Men',\n",
       " 'Latest Exclusive Affordable Collection of Trendy & Styl...',\n",
       " 'Combo Pack Of 2 Latest Stylish Casual Shoes for Men Lac...',\n",
       " 'Sneakers For Men',\n",
       " 'Breathable, Walking, Running, Casual, Gym Shoes Sneaker...',\n",
       " 'Sneakers For Men',\n",
       " 'Sneakers For Men',\n",
       " 'Sneakers For Men']"
      ]
     },
     "execution_count": 11,
     "metadata": {},
     "output_type": "execute_result"
    }
   ],
   "source": [
    "Product_Description"
   ]
  },
  {
   "cell_type": "code",
   "execution_count": null,
   "id": "1efc3a78",
   "metadata": {},
   "outputs": [],
   "source": [
    "price=[]\n",
    "for price in driver.find_elements(By.XPATH, '//div[@class=\"_30jeq3\"]')[:100]\n",
    "    print(price.text)"
   ]
  },
  {
   "cell_type": "code",
   "execution_count": null,
   "id": "252c3489",
   "metadata": {},
   "outputs": [],
   "source": []
  },
  {
   "cell_type": "markdown",
   "id": "a5fe083b",
   "metadata": {},
   "source": [
    "7. Go to the link - https://www.myntra.com/shoes\n",
    "Set second Price filter and Color filter to “Black”, as shown in the below image"
   ]
  },
  {
   "cell_type": "code",
   "execution_count": 42,
   "id": "bff9f273",
   "metadata": {},
   "outputs": [],
   "source": [
    "#First step is to connect to the driver\n",
    "driver=webdriver.Chrome(r\"D:\\\\chromedriver.exe\")"
   ]
  },
  {
   "cell_type": "code",
   "execution_count": 16,
   "id": "c3badf56",
   "metadata": {},
   "outputs": [],
   "source": [
    "#load the myntra page on automated chrome browser\n",
    "driver.get(\"https://www.myntra.com/shoes\")"
   ]
  },
  {
   "cell_type": "markdown",
   "id": "165b71a5",
   "metadata": {},
   "source": [
    "#issue was there with myntra site, inspect option is not working in that site"
   ]
  },
  {
   "cell_type": "markdown",
   "id": "0f9d1b02",
   "metadata": {},
   "source": [
    "# 8. Go to webpage https://www.amazon.in/\n",
    "Enter “Laptop” in the search field and then click the search icon.\n",
    "Then set CPU Type filter to “Intel Core i7” as shown in the below image:"
   ]
  },
  {
   "cell_type": "code",
   "execution_count": 17,
   "id": "a4fb93b3",
   "metadata": {},
   "outputs": [],
   "source": [
    "#First step is to connect to the driver\n",
    "driver=webdriver.Chrome(r\"D:\\\\chromedriver.exe\")"
   ]
  },
  {
   "cell_type": "code",
   "execution_count": 43,
   "id": "47a57791",
   "metadata": {},
   "outputs": [],
   "source": [
    "#load the amazon page on automated chrome browser\n",
    "driver.get(\"https://www.amazon.in/\")"
   ]
  },
  {
   "cell_type": "code",
   "execution_count": 44,
   "id": "77319f7e",
   "metadata": {},
   "outputs": [],
   "source": [
    "#Enter “Laptop” in the search field for title, rating and pricee” is written  as per the question\n",
    "input_search=driver.find_element(By.XPATH, '//*[@id=\"twotabsearchtextbox\"]')\n",
    "input_search.send_keys(\"Laptop\")"
   ]
  },
  {
   "cell_type": "code",
   "execution_count": 45,
   "id": "86ed1d8b",
   "metadata": {},
   "outputs": [],
   "source": [
    "search=driver.find_element(By.XPATH, '//*[@id=\"nav-search-bar-form\"]/div[3]/div')\n",
    "search.click()"
   ]
  },
  {
   "cell_type": "code",
   "execution_count": 46,
   "id": "0854ff72",
   "metadata": {},
   "outputs": [],
   "source": [
    "#selecting \"cpu\" type as Intel Core i7\n",
    "CPU_type=driver.find_element(By.XPATH, '//*[@id=\"p_n_feature_thirteen_browse-bin-title\"]/span').find_element(By.XPATH, '//*[@id=\"p_n_feature_thirteen_browse-bin/12598163031\"]/span/a/span').click()"
   ]
  },
  {
   "cell_type": "code",
   "execution_count": 60,
   "id": "9aaa46c3",
   "metadata": {},
   "outputs": [
    {
     "data": {
      "text/plain": [
       "['Samsung Galaxy Book2 360 Intel 12th Gen i7 EvoTM 33.78cm (13.3\") AMOLED 2 in 1 Touch Screen Laptop (16 GB/512 GB SSD/Windows 11/MS Office/Backlit KB/Fingerprint Sensor/Graphite/1.16Kg), NP730QED-KA1IN',\n",
       " 'GIGABYTE AERO 5 KE4 Laptop, 15.6\" UHD OLED 60Hz, Intel Core i7-12700H 12th Gen, NVIDIA® RTX 3060 6GB Graphics, Gaming Laptop (16 GB / Windows 11 Home / Gen4 1TB SSD/ Office 365/Black)',\n",
       " 'ASUS Zenbook 13 OLED, 13.3-inch (33.78 cms) FHD OLED, Intel EVO Core i7-1165G7 11th Gen, Thin and Light Laptop (16GB/1TB SSD/Iris Xe Graphics/Windows 11/Office 2021/Mist/1.14 kg), UX325EA-KG701WS',\n",
       " 'ASUS Vivobook 15, 15.6-inch (39.62 cms) FHD, Intel Core i7-1065G7 10th Gen, Thin and Light Laptop (16GB/512GB SSD/Iris Plus Graphics/Windows 11/Office 2021/Silver/1.8 kg), X515JA-EJ701WS',\n",
       " 'HP Pavilion x360 11th Gen Intel Core i7 14 inch(35.6 cm) FHD,IPS, Multitouch 2-in-1 Laptop(16GB RAM/512GB SSD/Backlit KB/Intel Iris Xe Graphics/Pen/Alexa Built-in/MSO/1.52Kg) 14-dy1050TU, Spruce Blue',\n",
       " 'Lenovo IdeaPad Slim 5 Intel Core i7 12th Gen 15.6\" (39.62cm) FHD IPS Thin & Light Laptop (16GB/512GB SSD/Windows 11/Office 2021/Backlit/FPR/3months Game Pass/Storm Grey/1.85Kg), 82SF008WIN',\n",
       " 'Lenovo ThinkBook 15 Intel 11th Gen Core i7 15.6\"(39.62 cm)FHD Thin and Light Laptop (16GB/512GB SSD/Windows 11 Home/MS Office H&S 2021/Iris® Xe Graphics/Backlit/Mineral Grey/1.7 Kg) 20VE00W4IH',\n",
       " 'HP Pavilion Plus, 12th Gen Intel Core i7 16GB RAM/1TB SSD 14 inch(35.6 cm),OLED,400 nits,UWVA, Eye Safe Laptop/Intel Iris Xe Graphics/Backlit KB/B&O/FPR/Win 11/Alexa Built-in/MSO 2021, 14-eh0024TU',\n",
       " 'Samsung Galaxy Book2 360 Intel 12th Gen i7 EvoTM 33.78cm (13.3\") AMOLED 2 in 1 Touch Screen Laptop (16 GB/512 GB SSD/Windows 11/MS Office/Backlit KB/Fingerprint Sensor/Graphite/1.16Kg), NP730QED-KA1IN',\n",
       " 'Lenovo Yoga 7i 11th Gen Intel Core i7-1165G7 14 inches FHD IPS 2-in-1 Touchscreen Business Laptop (16GB/512GB SSD/Windows 10/MS Office/Digital Pen/Fingerprint Reader/Slate Grey/1.43Kg), 82BH004HIN']"
      ]
     },
     "execution_count": 60,
     "metadata": {},
     "output_type": "execute_result"
    }
   ],
   "source": [
    "Title=[]\n",
    "title=driver.find_elements(By.XPATH, '//h2[@class=\"a-size-mini a-spacing-none a-color-base s-line-clamp-2\"]')\n",
    "for i in title[0:10]:\n",
    "    Title.append(i.text)\n",
    "\n",
    "Title"
   ]
  },
  {
   "cell_type": "code",
   "execution_count": 71,
   "id": "3431dcc1",
   "metadata": {},
   "outputs": [
    {
     "data": {
      "text/plain": [
       "['29', '8', '61', '4', '13', '62', '39', '29', '89', '19']"
      ]
     },
     "execution_count": 71,
     "metadata": {},
     "output_type": "execute_result"
    }
   ],
   "source": [
    "Ratings=[]\n",
    "\n",
    "for ratings in driver.find_elements(By.XPATH, '//span[@class=\"a-size-base s-underline-text\"]')[0:10]:\n",
    "    Ratings.append(ratings.text)\n",
    "   \n",
    "\n",
    "Ratings"
   ]
  },
  {
   "cell_type": "code",
   "execution_count": 72,
   "id": "766e2f07",
   "metadata": {},
   "outputs": [
    {
     "data": {
      "text/plain": [
       "10"
      ]
     },
     "execution_count": 72,
     "metadata": {},
     "output_type": "execute_result"
    }
   ],
   "source": [
    "len(Ratings)"
   ]
  },
  {
   "cell_type": "code",
   "execution_count": 82,
   "id": "a9ff4425",
   "metadata": {},
   "outputs": [
    {
     "name": "stdout",
     "output_type": "stream",
     "text": [
      "96,999\n",
      "1,56,990\n",
      "74,990\n",
      "64,990\n",
      "80,990\n",
      "79,990\n",
      "77,990\n",
      "86,990\n",
      "96,999\n",
      "1,11,000\n"
     ]
    }
   ],
   "source": [
    "\n",
    "for price in driver.find_elements(By.XPATH, '//span[@class=\"a-price-whole\"]')[0:10]:\n",
    "    i=print(price.text)"
   ]
  },
  {
   "cell_type": "code",
   "execution_count": 80,
   "id": "2a82aa41",
   "metadata": {},
   "outputs": [],
   "source": []
  },
  {
   "cell_type": "markdown",
   "id": "950e967b",
   "metadata": {},
   "source": [
    "# Q10: Write a python program to scrape the salary data for Data Scientist designation.\n",
    "You have to scrape Company name, Number of salaries, Average salary, Minsalary, Max Salary.\n",
    "The above task will be, done as shown in the below steps:\n",
    "1. First get the webpage https://www.ambitionbox.com/\n",
    "2. Click on the salaries option as shown in the image"
   ]
  },
  {
   "cell_type": "code",
   "execution_count": 199,
   "id": "bc0b15a6",
   "metadata": {},
   "outputs": [],
   "source": [
    "#First step is to connect to the driver\n",
    "driver=webdriver.Chrome(r\"D:\\\\chromedriver.exe\")"
   ]
  },
  {
   "cell_type": "code",
   "execution_count": 200,
   "id": "e28d24d5",
   "metadata": {},
   "outputs": [],
   "source": [
    "#load the ambitionbox page on automated chrome browser\n",
    "driver.get(\"https://www.ambitionbox.com/\")"
   ]
  },
  {
   "cell_type": "code",
   "execution_count": 201,
   "id": "bd6f7a2d",
   "metadata": {},
   "outputs": [],
   "source": [
    "#click on job option as per question\n",
    "Job=driver.find_element(By.XPATH, '//*[@id=\"ambitionbox-header\"]/nav/ul/li[5]/a').click()\n"
   ]
  },
  {
   "cell_type": "code",
   "execution_count": 202,
   "id": "81404050",
   "metadata": {},
   "outputs": [],
   "source": [
    "#selecting job and then passing the keys\n",
    "Designation=driver.find_element(By.XPATH, '//input[@class=\"input tt-input\"]')\n",
    "Designation.send_keys(\"Data Scientist\")"
   ]
  },
  {
   "cell_type": "code",
   "execution_count": 213,
   "id": "128b98a6",
   "metadata": {},
   "outputs": [],
   "source": [
    "#click on search option\n",
    "search=driver.find_element(By.CLASS_NAME, \"ctas-btn-medium\").click()"
   ]
  },
  {
   "cell_type": "code",
   "execution_count": 217,
   "id": "046c59c2",
   "metadata": {},
   "outputs": [],
   "source": [
    "#selecting the location path\n",
    "location=driver.find_element(By.XPATH, '//p[@class=\"body-medium text-capitalize undefined\"]').find_element(By.XPATH, '//*[@id=\"filters-row\"]/div/div/div[2]/div[2]/div/div[2]/input')\n",
    "location.send_keys(\"Noida\")"
   ]
  },
  {
   "cell_type": "code",
   "execution_count": 218,
   "id": "b4e783db",
   "metadata": {},
   "outputs": [],
   "source": [
    "#selecting noida from drop down\n",
    "Noida=driver.find_element(By.XPATH, '//*[@id=\"filters-row\"]/div/div/div[2]/div[2]/div/div[3]/div[1]/div[1]/div/label').click()"
   ]
  },
  {
   "cell_type": "code",
   "execution_count": 220,
   "id": "6b2bc108",
   "metadata": {},
   "outputs": [],
   "source": [
    "#Clear the pop-up to find the list of jobs\n",
    "Pop_up=driver.find_element(By.XPATH, '//*[@id=\"jobsList\"]/div[2]/div[2]/div/div[1]/div[3]/div[2]/p[2]').click()"
   ]
  },
  {
   "cell_type": "code",
   "execution_count": 221,
   "id": "62732dc2",
   "metadata": {},
   "outputs": [],
   "source": [
    "#choose any one from the three options to proceed further, enter email-id and password\n",
    "gmail=driver.find_element(By.XPATH, '//*[@id=\"loginModal\"]/div/div/div[2]/div[2]/p').click()"
   ]
  },
  {
   "cell_type": "code",
   "execution_count": 244,
   "id": "86611281",
   "metadata": {},
   "outputs": [],
   "source": [
    "#fill email and password then Scrape the data of each job\n",
    "Job_title=[]\n",
    "Company_name=[]\n",
    "Experience=[]\n",
    "Loation=[]\n",
    "Skills=[]"
   ]
  },
  {
   "cell_type": "code",
   "execution_count": 246,
   "id": "4b5457dd",
   "metadata": {},
   "outputs": [],
   "source": [
    "job_title=driver.find_elements(By.XPATH, '//a[@class=\"title noclick\"]')\n",
    "for i in Job_title:\n",
    "    i=i.text\n",
    "    Job_title.append(i)\n"
   ]
  },
  {
   "cell_type": "markdown",
   "id": "b058f576",
   "metadata": {},
   "source": [
    "# Q10: Write a python program to scrape the salary data for Data Scientist designation.\n",
    "You have to scrape Company name, Number of salaries, Average salary, Minsalary, Max Salary."
   ]
  },
  {
   "cell_type": "code",
   "execution_count": 2,
   "id": "12b19bef",
   "metadata": {},
   "outputs": [],
   "source": [
    "#First step is to connect to the driver\n",
    "driver=webdriver.Chrome(r\"D:\\\\chromedriver.exe\")"
   ]
  },
  {
   "cell_type": "code",
   "execution_count": 3,
   "id": "f4c60aa7",
   "metadata": {},
   "outputs": [],
   "source": [
    "#load the ambitionbox page on automated chrome browser\n",
    "driver.get(\"https://www.ambitionbox.com/\")"
   ]
  },
  {
   "cell_type": "code",
   "execution_count": 7,
   "id": "29859d72",
   "metadata": {},
   "outputs": [],
   "source": [
    "#go to the salary page in that select data scientist\n",
    "salary=driver.find_element(By.XPATH, '//*[@id=\"ambitionbox-header\"]/nav/ul/li[3]').click()"
   ]
  },
  {
   "cell_type": "code",
   "execution_count": 8,
   "id": "06b1e0b1",
   "metadata": {},
   "outputs": [],
   "source": [
    "folder=driver.find_element(By.XPATH, '/html/body/div/div/div/div[1]/header/nav/ul/li[3]/div/ul/li[1]')"
   ]
  },
  {
   "cell_type": "code",
   "execution_count": 9,
   "id": "d2dc1990",
   "metadata": {},
   "outputs": [],
   "source": [
    "Job_Title=driver.find_element(By.XPATH, '//input[@class=\"tt-input\"]')\n",
    "Job_Title.send_keys(\"Data Scientist\")"
   ]
  },
  {
   "cell_type": "code",
   "execution_count": 17,
   "id": "285f0681",
   "metadata": {},
   "outputs": [],
   "source": [
    "icon=driver.find_element(By.XPATH, '//*[@id=\"salaries\"]/main/section[1]/div[2]/div[1]/span/div/div/div[1]/div/div/p')"
   ]
  },
  {
   "cell_type": "code",
   "execution_count": 29,
   "id": "e5df1c45",
   "metadata": {},
   "outputs": [
    {
     "data": {
      "text/plain": [
       "['Walmart',\n",
       " 'Ab',\n",
       " 'Optum',\n",
       " 'ZS',\n",
       " 'Fractal',\n",
       " 'Sigmoid',\n",
       " 'Tiger',\n",
       " 'Legato',\n",
       " 'HSBC',\n",
       " 'Tredence']"
      ]
     },
     "execution_count": 29,
     "metadata": {},
     "output_type": "execute_result"
    }
   ],
   "source": [
    "Company_Name=[]\n",
    "\n",
    "company_name=driver.find_elements(By.XPATH, '//a[@data-v-3f777f56]')\n",
    "for v in company_name: \n",
    "    v=v.text.split()[0]\n",
    "    Company_Name.append(v)\n",
    "Company_Name"
   ]
  },
  {
   "cell_type": "code",
   "execution_count": 42,
   "id": "8eed7bfd",
   "metadata": {},
   "outputs": [
    {
     "data": {
      "text/plain": [
       "['25.0L',\n",
       " '15.0L',\n",
       " '11.0L',\n",
       " '11.0L',\n",
       " '9.0L',\n",
       " '12.7L',\n",
       " '9.0L',\n",
       " '11.0L',\n",
       " '12.0L',\n",
       " '8.8L']"
      ]
     },
     "execution_count": 42,
     "metadata": {},
     "output_type": "execute_result"
    }
   ],
   "source": [
    "Min_salary=[]\n",
    "salary=driver.find_elements(By.CLASS_NAME, \"salary-values\")\n",
    "for sal in salary:\n",
    "    sal=sal.text.split()[1]\n",
    "    Min_salary.append(sal)\n",
    "Min_salary   "
   ]
  },
  {
   "cell_type": "code",
   "execution_count": 43,
   "id": "41943468",
   "metadata": {},
   "outputs": [
    {
     "data": {
      "text/plain": [
       "['45.0L',\n",
       " '26.0L',\n",
       " '22.6L',\n",
       " '22.0L',\n",
       " '23.0L',\n",
       " '19.7L',\n",
       " '20.0L',\n",
       " '20.0L',\n",
       " '18.0L',\n",
       " '17.5L']"
      ]
     },
     "execution_count": 43,
     "metadata": {},
     "output_type": "execute_result"
    }
   ],
   "source": [
    "Max_salary=[]\n",
    "salary=driver.find_elements(By.CLASS_NAME, \"salary-values\")\n",
    "for sal in salary:\n",
    "    sal=sal.text.split()[-1]\n",
    "    Max_salary.append(sal)\n",
    "Max_salary "
   ]
  },
  {
   "cell_type": "code",
   "execution_count": 46,
   "id": "c9cdfbaa",
   "metadata": {},
   "outputs": [
    {
     "data": {
      "text/plain": [
       "['32.2L',\n",
       " '19.8L',\n",
       " '16.4L',\n",
       " '15.9L',\n",
       " '15.5L',\n",
       " '14.7L',\n",
       " '14.6L',\n",
       " '14.5L',\n",
       " '14.0L',\n",
       " '13.9L']"
      ]
     },
     "execution_count": 46,
     "metadata": {},
     "output_type": "execute_result"
    }
   ],
   "source": [
    "Average_salary=[]\n",
    "salary=driver.find_elements(By.CLASS_NAME, \"averageCtc\")\n",
    "for sal in salary:\n",
    "    sal=sal.text.split()[1]\n",
    "    Average_salary.append(sal)\n",
    "Average_salary"
   ]
  },
  {
   "cell_type": "code",
   "execution_count": 68,
   "id": "ab92b8a1",
   "metadata": {},
   "outputs": [
    {
     "data": {
      "text/plain": [
       "['3-4 yrs experience ',\n",
       " '2-4 yrs experience ',\n",
       " '2-4 yrs experience ',\n",
       " '1-2 yrs experience ',\n",
       " '2-4 yrs experience ',\n",
       " '1 yr experience ',\n",
       " '2-4 yrs experience ',\n",
       " '4 yrs experience ',\n",
       " '4 yrs experience ',\n",
       " '3 yrs experience ']"
      ]
     },
     "execution_count": 68,
     "metadata": {},
     "output_type": "execute_result"
    }
   ],
   "source": [
    "experience_required=[]\n",
    "experience=driver.find_elements(By.CLASS_NAME, \"sbold-list-header\")\n",
    "for i in experience[0:10]:\n",
    "    exp=i.text.split( \"(\")[0]\n",
    "    experience_required.append(exp)\n",
    "    \n",
    "experience_required\n",
    "    "
   ]
  },
  {
   "cell_type": "code",
   "execution_count": 69,
   "id": "ff688f88",
   "metadata": {},
   "outputs": [],
   "source": [
    "import pandas as pd\n"
   ]
  },
  {
   "cell_type": "code",
   "execution_count": 70,
   "id": "eccf30b6",
   "metadata": {},
   "outputs": [],
   "source": [
    "df10=pd.DataFrame({\"company name\":Company_Name, \"Average salary\": Average_salary, \"Minimum Salary\":Min_salary, \"Maximum salary\":Max_salary, \"Experience Required\":experience_required})"
   ]
  },
  {
   "cell_type": "code",
   "execution_count": 72,
   "id": "1221e57b",
   "metadata": {},
   "outputs": [
    {
     "data": {
      "text/html": [
       "<div>\n",
       "<style scoped>\n",
       "    .dataframe tbody tr th:only-of-type {\n",
       "        vertical-align: middle;\n",
       "    }\n",
       "\n",
       "    .dataframe tbody tr th {\n",
       "        vertical-align: top;\n",
       "    }\n",
       "\n",
       "    .dataframe thead th {\n",
       "        text-align: right;\n",
       "    }\n",
       "</style>\n",
       "<table border=\"1\" class=\"dataframe\">\n",
       "  <thead>\n",
       "    <tr style=\"text-align: right;\">\n",
       "      <th></th>\n",
       "      <th>company name</th>\n",
       "      <th>Average salary</th>\n",
       "      <th>Minimum Salary</th>\n",
       "      <th>Maximum salary</th>\n",
       "      <th>Experience Required</th>\n",
       "    </tr>\n",
       "  </thead>\n",
       "  <tbody>\n",
       "    <tr>\n",
       "      <th>0</th>\n",
       "      <td>Walmart</td>\n",
       "      <td>32.2L</td>\n",
       "      <td>25.0L</td>\n",
       "      <td>45.0L</td>\n",
       "      <td>3-4 yrs experience</td>\n",
       "    </tr>\n",
       "    <tr>\n",
       "      <th>1</th>\n",
       "      <td>Ab</td>\n",
       "      <td>19.8L</td>\n",
       "      <td>15.0L</td>\n",
       "      <td>26.0L</td>\n",
       "      <td>2-4 yrs experience</td>\n",
       "    </tr>\n",
       "    <tr>\n",
       "      <th>2</th>\n",
       "      <td>Optum</td>\n",
       "      <td>16.4L</td>\n",
       "      <td>11.0L</td>\n",
       "      <td>22.6L</td>\n",
       "      <td>2-4 yrs experience</td>\n",
       "    </tr>\n",
       "    <tr>\n",
       "      <th>3</th>\n",
       "      <td>ZS</td>\n",
       "      <td>15.9L</td>\n",
       "      <td>11.0L</td>\n",
       "      <td>22.0L</td>\n",
       "      <td>1-2 yrs experience</td>\n",
       "    </tr>\n",
       "    <tr>\n",
       "      <th>4</th>\n",
       "      <td>Fractal</td>\n",
       "      <td>15.5L</td>\n",
       "      <td>9.0L</td>\n",
       "      <td>23.0L</td>\n",
       "      <td>2-4 yrs experience</td>\n",
       "    </tr>\n",
       "    <tr>\n",
       "      <th>5</th>\n",
       "      <td>Sigmoid</td>\n",
       "      <td>14.7L</td>\n",
       "      <td>12.7L</td>\n",
       "      <td>19.7L</td>\n",
       "      <td>1 yr experience</td>\n",
       "    </tr>\n",
       "    <tr>\n",
       "      <th>6</th>\n",
       "      <td>Tiger</td>\n",
       "      <td>14.6L</td>\n",
       "      <td>9.0L</td>\n",
       "      <td>20.0L</td>\n",
       "      <td>2-4 yrs experience</td>\n",
       "    </tr>\n",
       "    <tr>\n",
       "      <th>7</th>\n",
       "      <td>Legato</td>\n",
       "      <td>14.5L</td>\n",
       "      <td>11.0L</td>\n",
       "      <td>20.0L</td>\n",
       "      <td>4 yrs experience</td>\n",
       "    </tr>\n",
       "    <tr>\n",
       "      <th>8</th>\n",
       "      <td>HSBC</td>\n",
       "      <td>14.0L</td>\n",
       "      <td>12.0L</td>\n",
       "      <td>18.0L</td>\n",
       "      <td>4 yrs experience</td>\n",
       "    </tr>\n",
       "    <tr>\n",
       "      <th>9</th>\n",
       "      <td>Tredence</td>\n",
       "      <td>13.9L</td>\n",
       "      <td>8.8L</td>\n",
       "      <td>17.5L</td>\n",
       "      <td>3 yrs experience</td>\n",
       "    </tr>\n",
       "  </tbody>\n",
       "</table>\n",
       "</div>"
      ],
      "text/plain": [
       "  company name Average salary Minimum Salary Maximum salary  \\\n",
       "0      Walmart          32.2L          25.0L          45.0L   \n",
       "1           Ab          19.8L          15.0L          26.0L   \n",
       "2        Optum          16.4L          11.0L          22.6L   \n",
       "3           ZS          15.9L          11.0L          22.0L   \n",
       "4      Fractal          15.5L           9.0L          23.0L   \n",
       "5      Sigmoid          14.7L          12.7L          19.7L   \n",
       "6        Tiger          14.6L           9.0L          20.0L   \n",
       "7       Legato          14.5L          11.0L          20.0L   \n",
       "8         HSBC          14.0L          12.0L          18.0L   \n",
       "9     Tredence          13.9L           8.8L          17.5L   \n",
       "\n",
       "   Experience Required  \n",
       "0  3-4 yrs experience   \n",
       "1  2-4 yrs experience   \n",
       "2  2-4 yrs experience   \n",
       "3  1-2 yrs experience   \n",
       "4  2-4 yrs experience   \n",
       "5     1 yr experience   \n",
       "6  2-4 yrs experience   \n",
       "7    4 yrs experience   \n",
       "8    4 yrs experience   \n",
       "9    3 yrs experience   "
      ]
     },
     "execution_count": 72,
     "metadata": {},
     "output_type": "execute_result"
    }
   ],
   "source": [
    "df10"
   ]
  },
  {
   "cell_type": "code",
   "execution_count": null,
   "id": "be031e38",
   "metadata": {},
   "outputs": [],
   "source": []
  }
 ],
 "metadata": {
  "kernelspec": {
   "display_name": "Python 3 (ipykernel)",
   "language": "python",
   "name": "python3"
  },
  "language_info": {
   "codemirror_mode": {
    "name": "ipython",
    "version": 3
   },
   "file_extension": ".py",
   "mimetype": "text/x-python",
   "name": "python",
   "nbconvert_exporter": "python",
   "pygments_lexer": "ipython3",
   "version": "3.9.12"
  }
 },
 "nbformat": 4,
 "nbformat_minor": 5
}
