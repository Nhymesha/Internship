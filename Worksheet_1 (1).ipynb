{
 "cells": [
  {
   "cell_type": "markdown",
   "id": "02993a36",
   "metadata": {},
   "source": [
    "11.Write a python program to find the factorial of a number."
   ]
  },
  {
   "cell_type": "code",
   "execution_count": 2,
   "id": "c83d20ab",
   "metadata": {},
   "outputs": [
    {
     "name": "stdout",
     "output_type": "stream",
     "text": [
      "enter the number 10\n",
      "The factorial of 10 is 3628800\n"
     ]
    }
   ],
   "source": [
    "num=int(input(\"enter the number \"))\n",
    "Factorial=1\n",
    "if num<0:\n",
    "    print(\"sorry, factorial is not work for negative numbers\")\n",
    "elif num==0:\n",
    "        print(\"factorial of 0 is 1\")\n",
    "else:\n",
    "    for i in range(1,num+1):\n",
    "        Factorial=Factorial*i\n",
    "    print(\"The factorial of\", num, \"is\", Factorial)\n",
    "\n"
   ]
  },
  {
   "cell_type": "markdown",
   "id": "d26009fb",
   "metadata": {},
   "source": [
    "12.Write a python program to find whether a number is prime or composite."
   ]
  },
  {
   "cell_type": "code",
   "execution_count": 12,
   "id": "6fc278e5",
   "metadata": {},
   "outputs": [
    {
     "name": "stdout",
     "output_type": "stream",
     "text": [
      "Enter any number23\n",
      "23 is prime but not composite\n"
     ]
    }
   ],
   "source": [
    "num= int(input(\"Enter any number\"))\n",
    "if num==0 or num==1:\n",
    "    print(num, \"is neither prime nor composite\")\n",
    "elif num>1:\n",
    "    for i in range(2,num):\n",
    "        if(num%i==0):\n",
    "            print(num, \"is not prime but composite\")\n",
    "            break\n",
    "    else:\n",
    "        print(num, \"is prime but not composite\")\n",
    "else: \n",
    "    print(\"Enter the positive number\")\n",
    "                  "
   ]
  },
  {
   "cell_type": "markdown",
   "id": "cfb43043",
   "metadata": {},
   "source": [
    "13.\tWrite a python program to check whether a given string is palindrome or not."
   ]
  },
  {
   "cell_type": "code",
   "execution_count": 4,
   "id": "50682924",
   "metadata": {},
   "outputs": [
    {
     "name": "stdout",
     "output_type": "stream",
     "text": [
      "enter the string/character; Ginger\n",
      "String is not a palindrome\n"
     ]
    }
   ],
   "source": [
    "String=input(\"enter the string/character; \")\n",
    "Reversevalue=String[::-1]\n",
    "if(String==Reversevalue):\n",
    "    print(\"String is palindrome\")\n",
    "else:\n",
    "    print(\"String is not a palindrome\")"
   ]
  },
  {
   "cell_type": "markdown",
   "id": "cc2fabb5",
   "metadata": {},
   "source": [
    "14.\tWrite a Python program to get the third side of right-angled triangle from two given sides."
   ]
  },
  {
   "cell_type": "code",
   "execution_count": 5,
   "id": "d369fa31",
   "metadata": {},
   "outputs": [
    {
     "name": "stdout",
     "output_type": "stream",
     "text": [
      "enter the value of side1= 20\n",
      "enter the value of side2= 22\n",
      "The third side of right-angled triangle is= 29.732137494637012\n"
     ]
    }
   ],
   "source": [
    "from math import sqrt\n",
    "\n",
    "side1=int(input(\"enter the value of side1= \"))\n",
    "side2=int (input(\"enter the value of side2= \"))\n",
    "side3=sqrt((side1**2)+(side2**2))\n",
    "print(\"The third side of right-angled triangle is=\", side3)"
   ]
  },
  {
   "cell_type": "markdown",
   "id": "cf93b487",
   "metadata": {},
   "source": [
    "15.\tWrite a python program to print the frequency of each of the characters present in a given string."
   ]
  },
  {
   "cell_type": "code",
   "execution_count": 34,
   "id": "217ad13d",
   "metadata": {},
   "outputs": [
    {
     "name": "stdout",
     "output_type": "stream",
     "text": [
      "Enter the character jupyter\n",
      "{'j': 1, 'u': 1, 'p': 1, 'y': 1, 't': 1, 'e': 1, 'r': 1}\n"
     ]
    }
   ],
   "source": [
    "string=str(input(\"Enter the character \"))\n",
    "count={}\n",
    "for i in string:\n",
    "    count[i]=count.get(i, 0)+1\n",
    "print(count)"
   ]
  },
  {
   "cell_type": "code",
   "execution_count": null,
   "id": "2ef84762",
   "metadata": {},
   "outputs": [],
   "source": []
  }
 ],
 "metadata": {
  "kernelspec": {
   "display_name": "Python 3 (ipykernel)",
   "language": "python",
   "name": "python3"
  },
  "language_info": {
   "codemirror_mode": {
    "name": "ipython",
    "version": 3
   },
   "file_extension": ".py",
   "mimetype": "text/x-python",
   "name": "python",
   "nbconvert_exporter": "python",
   "pygments_lexer": "ipython3",
   "version": "3.9.12"
  }
 },
 "nbformat": 4,
 "nbformat_minor": 5
}
